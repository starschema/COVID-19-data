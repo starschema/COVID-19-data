{
 "cells": [
  {
   "cell_type": "markdown",
   "metadata": {},
   "source": [
    "# Robert Koch-Institut: COVID-19-Dashboard\n",
    " Data from https://experience.arcgis.com/experience/478220a4c454480e823b17327b2bf1d4 dashboard using the arcgis REST API."
   ]
  },
  {
   "cell_type": "code",
   "execution_count": null,
   "metadata": {},
   "outputs": [],
   "source": [
    "import pandas as pd\n",
    "import requests\n",
    "import json\n",
    "from datetime import datetime\n",
    "import re\n",
    "import pycountry"
   ]
  },
  {
   "cell_type": "code",
   "execution_count": null,
   "metadata": {
    "tags": [
     "parameters"
    ]
   },
   "outputs": [],
   "source": [
    "# papermill parameters\n",
    "output_folder = \"../output/\""
   ]
  },
  {
   "cell_type": "markdown",
   "metadata": {},
   "source": [
    "### Get record count, set query parameters"
   ]
  },
  {
   "cell_type": "code",
   "execution_count": null,
   "metadata": {},
   "outputs": [],
   "source": [
    "endpoint = \"https://services7.arcgis.com/mOBPykOjAyBO2ZKk/ArcGIS/rest/services/RKI_Landkreisdaten/FeatureServer/0/query?where=1%3D1&objectIds=&time=&geometry=&geometryType=esriGeometryEnvelope&inSR=&spatialRel=esriSpatialRelIntersects&resultType=none&distance=0.0&units=esriSRUnit_Meter&returnGeodetic=false&outFields=*&returnGeometry=false&returnCentroid=false&featureEncoding=esriDefault&multipatchOption=xyFootprint&maxAllowableOffset=&geometryPrecision=&outSR=&datumTransformation=&applyVCSProjection=false&returnIdsOnly=false&returnUniqueIdsOnly=false&returnExtentOnly=false&returnQueryGeometry=false&returnDistinctValues=false&cacheHint=false&orderByFields=&groupByFieldsForStatistics=&outStatistics=&having=&returnZ=false&returnM=false&returnExceededLimitFeatures=true&quantizationParameters=&sqlFormat=none&f=pjson\"\n",
    "\n",
    "# send get request to endpoint\n",
    "response = requests.get(endpoint + \"&returnCountOnly=true\")\n",
    "\n",
    "# check request status is HTTP_OK\n",
    "assert response.status_code is 200\n",
    "\n",
    "# load to json\n",
    "data = json.loads(response.text)\n",
    "\n",
    "# set params\n",
    "record_count = data['count']\n",
    "offset = 0\n",
    "record_fetch_count = 2000\n",
    "fields = None\n",
    "records = []\n",
    "print(record_count)"
   ]
  },
  {
   "cell_type": "markdown",
   "metadata": {},
   "source": [
    "### Retrieve data"
   ]
  },
  {
   "cell_type": "code",
   "execution_count": null,
   "metadata": {},
   "outputs": [],
   "source": [
    "while offset < record_count:\n",
    "    response = requests.get(endpoint + f\"&resultRecordCount={record_fetch_count}&resultOffset={offset}\")\n",
    "    \n",
    "    # check if request status code is HTTP_OK \n",
    "    assert response.status_code is 200\n",
    "    \n",
    "    # load to json\n",
    "    data = json.loads(response.text)\n",
    "    \n",
    "    # set fields\n",
    "    if not fields:\n",
    "        fields = list(map(lambda f: f['name'],data['fields']))\n",
    "    \n",
    "    data = list(map(lambda record: record['attributes'].values(), data['features']))\n",
    "    \n",
    "    # add to records\n",
    "    records += data\n",
    "    \n",
    "    # set params\n",
    "    offset += record_fetch_count\n",
    "    \n",
    "assert len(records) == record_count\n",
    "records = dict(zip(range(len(records)), records)) \n",
    "df = pd.DataFrame.from_dict(records, orient=\"index\", columns=fields)"
   ]
  },
  {
   "cell_type": "code",
   "execution_count": null,
   "metadata": {},
   "outputs": [],
   "source": [
    "df = pd.DataFrame.from_dict(records, orient=\"index\", columns=fields)"
   ]
  },
  {
   "cell_type": "markdown",
   "metadata": {},
   "source": [
    "### Cleanse data"
   ]
  },
  {
   "cell_type": "code",
   "execution_count": null,
   "metadata": {
    "scrolled": true
   },
   "outputs": [],
   "source": [
    "# rename columns\n",
    "column_name_map = {\n",
    "    \"RS\": \"district_id\",\n",
    "    \"county\": \"county\",\n",
    "    \"BL_ID\": \"state_id\",\n",
    "    \"BL\": \"state\",\n",
    "    \"BEZ\": \"district_type\",\n",
    "    \"EWZ\": \"population\",\n",
    "    \"death_rate\": \"death_rate\",\n",
    "    \"cases\": \"cases\",\n",
    "    \"deaths\": \"deaths\",\n",
    "    \"cases_per_100k\": \"cases_per_100k\",\n",
    "    \"cases_per_population\": \"cases_per_population\",\n",
    "    \"cases7_per_100k\": \"cases7_per_100k\",\n",
    "    \"last_update\": \"date\",   \n",
    "}\n",
    "df.rename(columns=column_name_map, inplace=True)\n",
    "\n",
    "# map district types\n",
    "district_type_map = {\n",
    "    \"Landkreis\" :\"Rural District\",\n",
    "    \"Kreis\": \"Rural District\",\n",
    "    \"Kreisfreie Stadt\": \"District-free City\",\n",
    "    \"Stadtkreis\": \"District-free City\"\n",
    "}\n",
    "\n",
    "df['district_type'] = df['district_type'].apply(lambda d: district_type_map.get(d))\n",
    "\n",
    "# set district id as index\n",
    "df.set_index(\"district_id\")\n",
    "\n",
    "# select columns by column_name_map\n",
    "df = df.loc[:, tuple(column_name_map.values())]\n"
   ]
  },
  {
   "cell_type": "code",
   "execution_count": null,
   "metadata": {},
   "outputs": [],
   "source": [
    "# parse last_update\n",
    "df['date'] = pd.to_datetime(df['date'], format=\"%d.%m.%Y, %H:%M Uhr\")\n",
    "df['date'] = df['date'].apply(lambda row: row.tz_localize(\"Europe/Berlin\"))\n"
   ]
  },
  {
   "cell_type": "code",
   "execution_count": null,
   "metadata": {},
   "outputs": [],
   "source": [
    "# set ISO3166_1, ISO3166_2 fields\n",
    "df['ISO3166_1'] = 'DE'\n",
    "subdivisions = {k.name: k.code.replace(\"DE-\", \"\") for k in pycountry.subdivisions.get(country_code=\"DE\")}\n",
    "df['ISO3166_2'] = df['state'].apply(lambda c: subdivisions.get(c))\n",
    "\n",
    "# set Last_Update\n",
    "df['Last_Update_Date'] = datetime.utcnow()\n",
    "\n",
    "# set LAST_REPORTED_DATE\n",
    "df['Last_Reported_Date'] = df['date'] == df['date'].max()"
   ]
  },
  {
   "cell_type": "code",
   "execution_count": null,
   "metadata": {},
   "outputs": [],
   "source": [
    "df.to_csv(output_folder + \"RKI_GER_COVID19_DASHBOARD.csv\", index=False)"
   ]
  }
 ],
 "metadata": {
  "celltoolbar": "Tags",
  "kernelspec": {
   "display_name": "Python 3",
   "language": "python",
   "name": "python3"
  },
  "language_info": {
   "codemirror_mode": {
    "name": "ipython",
    "version": 3
   },
   "file_extension": ".py",
   "mimetype": "text/x-python",
   "name": "python",
   "nbconvert_exporter": "python",
   "pygments_lexer": "ipython3",
   "version": "3.7.5"
  }
 },
 "nbformat": 4,
 "nbformat_minor": 4
}
