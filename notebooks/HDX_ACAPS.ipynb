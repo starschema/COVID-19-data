{
 "cells": [
  {
   "cell_type": "markdown",
   "metadata": {},
   "source": [
    "# HDX ACAPS data import"
   ]
  },
  {
   "cell_type": "code",
   "execution_count": null,
   "metadata": {},
   "outputs": [],
   "source": [
    "import pandas as pd\n",
    "import xlrd\n",
    "import csv\n",
    "import pycountry\n",
    "import datetime\n",
    "import re\n",
    "import requests\n",
    "from bs4 import BeautifulSoup"
   ]
  },
  {
   "cell_type": "code",
   "execution_count": null,
   "metadata": {
    "tags": [
     "parameters"
    ]
   },
   "outputs": [],
   "source": [
    "# papermill parameters\n",
    "output_folder = '../output/'"
   ]
  },
  {
   "cell_type": "code",
   "execution_count": null,
   "metadata": {},
   "outputs": [],
   "source": [
    "response = requests.get('https://data.humdata.org/dataset/e1a91ae0-292d-4434-bc75-bf863d4608ba')\n",
    "soup = BeautifulSoup(response.text)\n",
    "data = soup.find(\"a\", {'href':re.compile(\"xls\"), \"title\": \"Download\"})['href']"
   ]
  },
  {
   "cell_type": "code",
   "execution_count": null,
   "metadata": {},
   "outputs": [],
   "source": [
    "df = pd.read_excel(f\"https://data.humdata.org{data}\", sheet_name=\"Dataset\")"
   ]
  },
  {
   "cell_type": "code",
   "execution_count": null,
   "metadata": {},
   "outputs": [],
   "source": [
    "def get_country(row):\n",
    "    country = pycountry.countries.get(alpha_3=row.ISO)\n",
    "    \n",
    "    if country:\n",
    "        return country.alpha_2\n",
    "    else:\n",
    "        return \"\""
   ]
  },
  {
   "cell_type": "code",
   "execution_count": null,
   "metadata": {},
   "outputs": [],
   "source": [
    "df[\"ISO3166_1\"] = df.apply(get_country, axis=1)"
   ]
  },
  {
   "cell_type": "code",
   "execution_count": null,
   "metadata": {},
   "outputs": [],
   "source": [
    "df = df[df.sum(axis=1) > 0]"
   ]
  },
  {
   "cell_type": "code",
   "execution_count": null,
   "metadata": {},
   "outputs": [],
   "source": [
    "df[\"TARGETED_POP_GROUP\"] = df[\"TARGETED_POP_GROUP\"].str.rstrip()\n",
    "df[\"NON_COMPLIANCE\"] = df[\"NON_COMPLIANCE\"].str.capitalize()"
   ]
  },
  {
   "cell_type": "code",
   "execution_count": null,
   "metadata": {},
   "outputs": [],
   "source": [
    "df = df.rename(columns={\n",
    "    \"COUNTRY\": \"COUNTRY_STATE\",\n",
    "    \"ADMIN_LEVEL_NAME\": \"ADMIN_2\"\n",
    "})"
   ]
  },
  {
   "cell_type": "code",
   "execution_count": null,
   "metadata": {},
   "outputs": [],
   "source": [
    "df[\"LAST_UPDATED_DATE\"] = datetime.datetime.now()"
   ]
  },
  {
   "cell_type": "code",
   "execution_count": null,
   "metadata": {},
   "outputs": [],
   "source": [
    "df.to_csv(path_or_buf=output_folder + \"HDX_ACAPS.csv\", quoting = csv.QUOTE_NONNUMERIC,\n",
    "          columns=[\n",
    "              \"COUNTRY_STATE\", \"ADMIN_2\", \"REGION\", \"LOG_TYPE\", \"CATEGORY\", \"MEASURE\",\n",
    "              \"TARGETED_POP_GROUP\", \"COMMENTS\", \"NON_COMPLIANCE\",\n",
    "              \"DATE_IMPLEMENTED\", \"SOURCE\", \"SOURCE_TYPE\", \"LINK\",\n",
    "              \"ENTRY_DATE\", \"ISO3166_1\", \"LAST_UPDATED_DATE\"\n",
    "          ], index=False)"
   ]
  }
 ],
 "metadata": {
  "celltoolbar": "Tags",
  "kernelspec": {
   "display_name": "Python 3",
   "language": "python",
   "name": "python3"
  },
  "language_info": {
   "codemirror_mode": {
    "name": "ipython",
    "version": 3
   },
   "file_extension": ".py",
   "mimetype": "text/x-python",
   "name": "python",
   "nbconvert_exporter": "python",
   "pygments_lexer": "ipython3",
   "version": "3.7.5"
  }
 },
 "nbformat": 4,
 "nbformat_minor": 4
}
