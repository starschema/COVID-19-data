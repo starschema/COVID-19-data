{
 "cells": [
  {
   "cell_type": "markdown",
   "metadata": {},
   "source": [
    "# 2019 Novel Coronavirus (SARS-CoV-2) and COVID-19 Unpivoted Data\n",
    "\n",
    "The following script takes data from the repository of the 2019 Novel Coronavirus Visual Dashboard operated by Johns Hopkins University's Center for Systems Science and Engineering (JHU CSSE). It will apply necessary cleansing/reformatting to make it use in traditional relational databases and data visualization tools."
   ]
  },
  {
   "cell_type": "code",
   "execution_count": null,
   "metadata": {},
   "outputs": [],
   "source": [
    "import pandas as pd\n",
    "import os\n",
    "import datetime\n",
    "import pycountry\n",
    "from copy import deepcopy"
   ]
  },
  {
   "cell_type": "code",
   "execution_count": null,
   "metadata": {
    "tags": [
     "parameters"
    ]
   },
   "outputs": [],
   "source": [
    "# papermill parameters\n",
    "output_folder = \"../output/\""
   ]
  },
  {
   "cell_type": "markdown",
   "metadata": {},
   "source": [
    "Data until 22MAR2020 is stored in a cache. This is collated and reshaped data from previous days."
   ]
  },
  {
   "cell_type": "code",
   "execution_count": null,
   "metadata": {},
   "outputs": [],
   "source": [
    "pre_2203_data = pd.read_csv(\"https://s3-us-west-1.amazonaws.com/starschema.covid/CSSEGISandData_COVID-19_until_0322.csv\",keep_default_na=False)\n",
    "pre_2203_data[\"Date\"] = pd.to_datetime(pre_2203_data[\"Date\"])"
   ]
  },
  {
   "cell_type": "markdown",
   "metadata": {},
   "source": [
    "Daily reports from and including 23MAR2020 are downloaded from the JHU CSSE GIS and Data Github repository."
   ]
  },
  {
   "cell_type": "code",
   "execution_count": null,
   "metadata": {},
   "outputs": [],
   "source": [
    "def urls():\n",
    "    return [template.format(month=dt.month, day=dt.day, year=dt.year) for dt in dates]"
   ]
  },
  {
   "cell_type": "code",
   "execution_count": null,
   "metadata": {},
   "outputs": [],
   "source": [
    "def retrieve_and_merge():\n",
    "    dates = [datetime.date(year=2020, month=3, day=23) + datetime.timedelta(n) for n in range(int((datetime.datetime.now().date() - datetime.datetime(year=2020, month=3, day=23).date()).days))]\n",
    "    template = \"https://raw.githubusercontent.com/CSSEGISandData/COVID-19/master/csse_covid_19_data/csse_covid_19_daily_reports/{month:02d}-{day:02d}-{year}.csv\"\n",
    "    \n",
    "    res = pd.DataFrame()\n",
    "    \n",
    "    for dt in dates:\n",
    "        df = pd.read_csv(template.format(year=dt.year,\n",
    "                                         month=dt.month,\n",
    "                                         day=dt.day),keep_default_na=False)\n",
    "        df[\"Date\"] = dt\n",
    "        res = res.append(df, ignore_index=True)\n",
    "    return res.melt(id_vars=[col for col in res.columns if col not in [\"Confirmed\", \"Deaths\", \"Recovered\", \"Active\"]],\n",
    "                    var_name=\"Case_Type\",\n",
    "                    value_name=\"Cases\").drop([\"Last_Update\"], axis=1).rename(columns={\"Long_\": \"Long\",\n",
    "                                                                                      \"Country_Region\": \"Country/Region\",\n",
    "                                                                                      \"Province_State\": \"Province/State\"})"
   ]
  },
  {
   "cell_type": "markdown",
   "metadata": {},
   "source": [
    "## Drop `Active` and `Recovered` from 22MAR2020 onwards"
   ]
  },
  {
   "cell_type": "markdown",
   "metadata": {},
   "source": [
    "As [JHU no longer reports `Active` and `Recovered` from 22MAR2020 onwards](https://github.com/starschema/COVID-19-data/issues/78), these can be dropped."
   ]
  },
  {
   "cell_type": "code",
   "execution_count": null,
   "metadata": {},
   "outputs": [],
   "source": [
    "df = retrieve_and_merge()\n",
    "df = df[df[\"Case_Type\"].isin([\"Active\", \"Recovered\"])  == False]\n",
    "df[\"Date\"] = pd.to_datetime(df[\"Date\"])"
   ]
  },
  {
   "cell_type": "code",
   "execution_count": null,
   "metadata": {},
   "outputs": [],
   "source": [
    "df = df.rename(columns={\"Admin2\": \"County\"})"
   ]
  },
  {
   "cell_type": "code",
   "execution_count": null,
   "metadata": {},
   "outputs": [],
   "source": [
    "cldf_us = df.loc[df[\"Country/Region\"] == \"US\"]\n",
    "cldf_nonus = df.loc[df[\"Country/Region\"] != \"US\"]"
   ]
  },
  {
   "cell_type": "markdown",
   "metadata": {},
   "source": [
    "We filter the county-level data set for state data only to prevent DQ issues in JHU inputs that account for 'Recovered'/'Active' as states."
   ]
  },
  {
   "cell_type": "code",
   "execution_count": null,
   "metadata": {},
   "outputs": [],
   "source": [
    "cldf_us = cldf_us[cldf_us[\"Province/State\"].isin([s.name for s in pycountry.subdivisions.get(country_code = \"US\")])]"
   ]
  },
  {
   "cell_type": "markdown",
   "metadata": {},
   "source": [
    "## Data Quality"
   ]
  },
  {
   "cell_type": "markdown",
   "metadata": {},
   "source": [
    "We use `pycountry` to resolve geographies."
   ]
  },
  {
   "cell_type": "markdown",
   "metadata": {},
   "source": [
    "A number of states have inconsistent naming or special characters, such as `Taiwan*`. These are normalised through a replacement `dict` with ISO3166-1 compliant names. Data is then aggregated for each division by date and case type."
   ]
  },
  {
   "cell_type": "code",
   "execution_count": null,
   "metadata": {},
   "outputs": [],
   "source": [
    "changed_names = {\n",
    "    \"Holy See\": \"Holy See (Vatican City State)\",\n",
    "    \"Vatican City\": \"Holy See (Vatican City State)\",\n",
    "    \"Hong Kong SAR\": \"Hong Kong\",\n",
    "    \"Iran (Islamic Republic of)\": \"Iran, Islamic Republic of\",\n",
    "    \"Iran\": \"Iran, Islamic Republic of\",\n",
    "    \"Macao SAR\": \"Macao\",\n",
    "    \"Macau\": \"Macao\",\n",
    "    \"Republic of Korea\": \"Korea, Republic of\",\n",
    "    \"South Korea\": \"Korea, Republic of\",\n",
    "    \"Korea, South\": \"Korea, Republic of\",\n",
    "    \"Republic of Moldova\": \"Moldova, Republic of\",\n",
    "    \"Russia\": \"Russian Federation\",\n",
    "    \"Saint Martin\": \"Sint Maarten (Dutch part)\",\n",
    "    \"St. Martin\": \"Sint Maarten (Dutch part)\",\n",
    "    \"Taipei and environs\": \"Taiwan, Province of China\",\n",
    "    \"Vietnam\": \"Viet Nam\",\n",
    "    \"occupied Palestinian territory\": \"Palestine, State of\",\n",
    "    \"West Bank and Gaza\": \"Palestine, State of\",\n",
    "    \"Taiwan*\": \"Taiwan, Province of China\",\n",
    "    \"Congo (Brazzaville)\": \"Congo\",\n",
    "    \"Congo (Kinshasa)\": \"Congo, The Democratic Republic of the\",\n",
    "    \"Gambia, The\": \"Gambia\",\n",
    "    \"The Gambia\": \"Gambia\",\n",
    "    \"Tanzania\": \"Tanzania, United Republic of\",\n",
    "    \"US\": \"United States\",\n",
    "    \"Curacao\": \"Curaçao\",\n",
    "    \"Brunei\": \"Brunei Darussalam\",\n",
    "    \"Cote d'Ivoire\": \"Côte d'Ivoire\",\n",
    "    \"Moldova\": \"Moldova, Republic of\",\n",
    "    \"The Bahamas\": \"Bahamas\",\n",
    "    \"Venezuela\": \"Venezuela, Bolivarian Republic of\",\n",
    "    \"Bolivia\": \"Bolivia, Plurinational State of\",\n",
    "    \"East Timor\": \"Timor-Leste\",\n",
    "    \"Cape Verde\": \"Cabo Verde\",\n",
    "    \"US\": \"United States\",\n",
    "    \"Laos\": \"Lao People's Democratic Republic\",\n",
    "    \"Burma\": \"Myanmar\"\n",
    "}\n",
    "\n",
    "def normalize_names(df):\n",
    "    df[\"Country/Region\"] = df[\"Country/Region\"].replace(changed_names)\n",
    "    df[\"Cases\"] = df[\"Cases\"].replace('',0).astype(int)\n",
    "        \n",
    "    return(df.groupby(by=[\"Country/Region\",\"Province/State\", \"Date\", \"Case_Type\"], as_index=False).agg({\"Cases\": \"sum\", \"Long\": \"first\", \"Lat\": \"first\"}))"
   ]
  },
  {
   "cell_type": "code",
   "execution_count": null,
   "metadata": {},
   "outputs": [],
   "source": [
    "cldf_nonus = normalize_names(cldf_nonus)"
   ]
  },
  {
   "cell_type": "code",
   "execution_count": null,
   "metadata": {},
   "outputs": [],
   "source": [
    "cldf_us[\"Country/Region\"] = \"United States\""
   ]
  },
  {
   "cell_type": "markdown",
   "metadata": {},
   "source": [
    "## Normalize cruise ship names"
   ]
  },
  {
   "cell_type": "code",
   "execution_count": null,
   "metadata": {},
   "outputs": [],
   "source": [
    "cldf_nonus.loc[cldf_nonus[\"Country/Region\"] == \"Diamond Princess\", \"Province/State\"] = \"Diamond Princess\""
   ]
  },
  {
   "cell_type": "code",
   "execution_count": null,
   "metadata": {},
   "outputs": [],
   "source": [
    "cldf_nonus.loc[cldf_nonus[\"Country/Region\"] == \"Diamond Princess\", \"Country/Region\"] = \"Cruise Ship\""
   ]
  },
  {
   "cell_type": "markdown",
   "metadata": {},
   "source": [
    "## Adding ISO3166-1 and ISO3166-2 identifiers"
   ]
  },
  {
   "cell_type": "markdown",
   "metadata": {},
   "source": [
    "To facilitate easy recognition, ISO3166-1 identifiers are added to all countries and ISO3166-2 identifiers are added where appropriate. This is the case where subregional data exists:\n",
    "\n",
    "* Australia\n",
    "* Canada\n",
    "* France (`France` for metropolitan France, separate regions for DOM/TOMs\n",
    "* PRC\n",
    "* US\n",
    "* UK (the `UK` province identifier encompasses only Great Britain and Northern Ireland, other dependencies reporting to the UK authorities are separate subdivisions)\n",
    "* The Kingdom of the Netherlands (`Netherlands` encompasses the constituent country of the Netherlands, and the other constituent countries register cases as separate provinces of the Kingdom of the Netherlands)"
   ]
  },
  {
   "cell_type": "code",
   "execution_count": null,
   "metadata": {},
   "outputs": [],
   "source": [
    "def resolve_iso3166_1(row):\n",
    "    if row[\"Country/Region\"] is not \"Cruise Ship\":\n",
    "        if pycountry.countries.get(name=row[\"Country/Region\"]):\n",
    "            row[\"ISO3166-1\"] = pycountry.countries.get(name=row[\"Country/Region\"]).alpha_2\n",
    "        else:\n",
    "            row[\"ISO3166-1\"] = \"\"\n",
    "    return row"
   ]
  },
  {
   "cell_type": "code",
   "execution_count": null,
   "metadata": {},
   "outputs": [],
   "source": [
    "cldf_nonus = cldf_nonus.apply(resolve_iso3166_1, axis=1)\n",
    "cldf_us[\"ISO3166-1\"] = \"US\""
   ]
  },
  {
   "cell_type": "markdown",
   "metadata": {},
   "source": [
    "We then encode level 2 IDs:"
   ]
  },
  {
   "cell_type": "code",
   "execution_count": null,
   "metadata": {},
   "outputs": [],
   "source": [
    "fr_subdivisions = {\"France\": \"FR\",\n",
    "                       \"French Guiana\": \"GF\",\n",
    "                       \"French Polynesia\": \"PF\",\n",
    "                       \"Guadeloupe\": \"GUA\",\n",
    "                       \"Mayotte\": \"YT\",\n",
    "                       \"Reunion\": \"RE\",\n",
    "                       \"Saint Barthelemy\": \"BL\",\n",
    "                       \"St Martin\": \"MF\"}\n",
    "\n",
    "nl_subdivisions = {\"Netherlands\": \"NL\",\n",
    "                   \"Aruba\": \"AW\",\n",
    "                   \"Curacao\": \"CW\"}\n",
    "\n",
    "cn_subdivisions = {'Jilin': 'CN-JL',\n",
    " 'Xizang': 'CN-XZ',\n",
    " 'Anhui': 'CN-AH',\n",
    " 'Jiangsu': 'CN-JS',\n",
    " 'Yunnan': 'CN-YN',\n",
    " 'Beijing': 'CN-BJ',\n",
    " 'Jiangxi': 'CN-JX',\n",
    " 'Zhejiang': 'CN-ZJ',\n",
    " 'Chongqing': 'CN-CQ',\n",
    " 'Liaoning': 'CN-LN',\n",
    " 'Fujian': 'CN-FJ',\n",
    " 'Guangdong': 'CN-GD',\n",
    " 'Inner Mongolia': 'CN-NM',\n",
    " 'Gansu': 'CN-GS',\n",
    " 'Ningxia': 'CN-NX',\n",
    " 'Guangxi': 'CN-GX',\n",
    " 'Qinghai': 'CN-QH',\n",
    " 'Guizhou': 'CN-GZ',\n",
    " 'Sichuan': 'CN-SC',\n",
    " 'Henan': 'CN-HA',\n",
    " 'Shandong': 'CN-SD',\n",
    " 'Hubei': 'CN-HB',\n",
    " 'Shanghai': 'CN-SH',\n",
    " 'Hebei': 'CN-HE',\n",
    " 'Shaanxi': 'CN-SN',\n",
    " 'Hainan': 'CN-HI',\n",
    " 'Shanxi': 'CN-SX',\n",
    " 'Tianjin': 'CN-TJ',\n",
    " 'Heilongjiang': 'CN-HL',\n",
    " 'Hunan': 'CN-HN',\n",
    " 'Xinjiang': 'CN-XJ',\n",
    " 'Tibet': \"CN-XZ\"}\n",
    "\n",
    "uk_subdivisions = {\"United Kingdom\": \"UK\",\n",
    "                   \"Cayman Islands\": \"KY\",\n",
    "                   \"Channel Islands\": \"CHA\",\n",
    "                   \"Gibraltar\": \"GI\",\n",
    "                   \"Montserrat\": \"MS\"}\n",
    "\n",
    "subdivisions = {\n",
    "    \"AU\": {subdivision.name: subdivision.code.replace(\"AU-\", \"\") for subdivision in pycountry.subdivisions.get(country_code=\"AU\")},\n",
    "    \"CA\": {subdivision.name: subdivision.code.replace(\"CA-\", \"\") for subdivision in pycountry.subdivisions.get(country_code=\"CA\")},\n",
    "    \"US\": {subdivision.name: subdivision.code.replace(\"US-\", \"\") for subdivision in pycountry.subdivisions.get(country_code=\"US\")},\n",
    "    \"GB\": uk_subdivisions,\n",
    "    \"CN\": cn_subdivisions,\n",
    "    \"NL\": nl_subdivisions,\n",
    "    \"FR\": fr_subdivisions\n",
    "}"
   ]
  },
  {
   "cell_type": "code",
   "execution_count": null,
   "metadata": {},
   "outputs": [],
   "source": [
    "countries_with_subdivisions = list(subdivisions.keys())\n",
    "\n",
    "def resolve_iso3166_2(row):\n",
    "    if row[\"ISO3166-1\"] in countries_with_subdivisions:\n",
    "        row[\"ISO3166-2\"] = subdivisions[row[\"ISO3166-1\"]].get(row[\"Province/State\"])\n",
    "    else:\n",
    "        row[\"ISO3166-2\"] = \"\"\n",
    "    return row"
   ]
  },
  {
   "cell_type": "code",
   "execution_count": null,
   "metadata": {},
   "outputs": [],
   "source": [
    "cldf_us = cldf_us.apply(resolve_iso3166_2, axis=1)\n",
    "cldf_nonus = cldf_nonus.apply(resolve_iso3166_2, axis=1)"
   ]
  },
  {
   "cell_type": "markdown",
   "metadata": {},
   "source": [
    "## Calculating case changes"
   ]
  },
  {
   "cell_type": "code",
   "execution_count": null,
   "metadata": {},
   "outputs": [],
   "source": [
    "cldf_nonus = cldf_nonus.sort_values(by=[\"Country/Region\", \"Province/State\", \"Case_Type\", \"Date\"], ascending=True)\n",
    "cldf_us = cldf_us.sort_values(by=[\"Country/Region\", \"Province/State\", \"County\", \"Case_Type\", \"Date\"], ascending=True)"
   ]
  },
  {
   "cell_type": "code",
   "execution_count": null,
   "metadata": {},
   "outputs": [],
   "source": [
    "cldf_nonus = pre_2203_data[pre_2203_data[\"Country/Region\"] != \"US\"].append(cldf_nonus)\n",
    "cldf_nonus[\"Difference\"] = cldf_nonus[\"Cases\"] - cldf_nonus.groupby([\"Country/Region\", \"Province/State\", \"Case_Type\"])[\"Cases\"].shift(periods=1)"
   ]
  },
  {
   "cell_type": "code",
   "execution_count": null,
   "metadata": {},
   "outputs": [],
   "source": [
    "cldf_us[\"Difference\"] = cldf_us[\"Cases\"] - cldf_us.groupby([\"Country/Region\", \"Province/State\", \"County\", \"Case_Type\"])[\"Cases\"].shift(periods=1)"
   ]
  },
  {
   "cell_type": "code",
   "execution_count": null,
   "metadata": {},
   "outputs": [],
   "source": [
    "result = cldf_nonus.append(cldf_us)"
   ]
  },
  {
   "cell_type": "code",
   "execution_count": null,
   "metadata": {},
   "outputs": [],
   "source": [
    "result.loc[(result[\"Date\"] == \"2020-01-22\") & (result[\"Country/Region\"] == \"United States\"), \"Difference\"] = result[(result[\"Date\"] == \"2020-01-22\") & (result[\"Country/Region\"] == \"United States\")][\"Cases\"]"
   ]
  },
  {
   "cell_type": "markdown",
   "metadata": {},
   "source": [
    "## Adding timestamp"
   ]
  },
  {
   "cell_type": "markdown",
   "metadata": {},
   "source": [
    "Before we save the file locally, we add the `Last_Update_Date` in `UTC` time zone."
   ]
  },
  {
   "cell_type": "code",
   "execution_count": null,
   "metadata": {},
   "outputs": [],
   "source": [
    "result[\"Last_Update_Date\"] = datetime.datetime.utcnow()"
   ]
  },
  {
   "cell_type": "markdown",
   "metadata": {},
   "source": [
    "## Output"
   ]
  },
  {
   "cell_type": "markdown",
   "metadata": {},
   "source": [
    "Finally, we store the output in the `output` folder as `JHU_COVID-19.csv` as an unindexed CSV file."
   ]
  },
  {
   "cell_type": "code",
   "execution_count": null,
   "metadata": {},
   "outputs": [],
   "source": [
    "result.to_csv(output_folder + \"JHU_COVID-19.csv\", index=False, columns=[\"Country/Region\",\n",
    "                                                                          \"Province/State\",\n",
    "                                                                          \"County\",\n",
    "                                                                          \"FIPS\",\n",
    "                                                                          \"Date\",\n",
    "                                                                          \"Case_Type\",\n",
    "                                                                          \"Cases\",\n",
    "                                                                          \"Long\",\n",
    "                                                                          \"Lat\", \n",
    "                                                                          \"ISO3166-1\",\n",
    "                                                                          \"ISO3166-2\",\n",
    "                                                                          \"Difference\",\n",
    "                                                                          \"Last_Update_Date\"])"
   ]
  },
  {
   "cell_type": "code",
   "execution_count": null,
   "metadata": {},
   "outputs": [],
   "source": [
    "result[result[\"Country/Region\"] == \"Diamond Princess\"]"
   ]
  },
  {
   "cell_type": "code",
   "execution_count": null,
   "metadata": {},
   "outputs": [],
   "source": []
  }
 ],
 "metadata": {
  "celltoolbar": "Tags",
  "kernelspec": {
   "display_name": "Python 3",
   "language": "python",
   "name": "python3"
  },
  "language_info": {
   "codemirror_mode": {
    "name": "ipython",
    "version": 3
   },
   "file_extension": ".py",
   "mimetype": "text/x-python",
   "name": "python",
   "nbconvert_exporter": "python",
   "pygments_lexer": "ipython3",
   "version": "3.7.5"
  },
  "toc": {
   "base_numbering": 1,
   "nav_menu": {},
   "number_sections": false,
   "sideBar": false,
   "skip_h1_title": false,
   "title_cell": "Table of Contents",
   "title_sidebar": "Contents",
   "toc_cell": false,
   "toc_position": {},
   "toc_section_display": false,
   "toc_window_display": false
  }
 },
 "nbformat": 4,
 "nbformat_minor": 2
}
