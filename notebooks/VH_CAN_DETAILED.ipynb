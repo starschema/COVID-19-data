{
 "cells": [
  {
   "cell_type": "markdown",
   "metadata": {},
   "source": [
    "# Detailed CA data\n",
    "\n",
    "This notebook pulls in detailed data from Canada using the [ViriHealth](https://virihealth.com) website.\n",
    "\n",
    "This notebook requires `lxml`."
   ]
  },
  {
   "cell_type": "code",
   "execution_count": null,
   "metadata": {},
   "outputs": [],
   "source": [
    "import pandas as pd\n",
    "import numpy as np\n",
    "from bs4 import BeautifulSoup\n",
    "import requests\n",
    "import pycountry\n",
    "import datetime\n",
    "import pygsheets\n",
    "import pytz"
   ]
  },
  {
   "cell_type": "code",
   "execution_count": null,
   "metadata": {
    "tags": [
     "parameters"
    ]
   },
   "outputs": [],
   "source": [
    "# papermill parameters\n",
    "output_folder = \"../output/\""
   ]
  },
  {
   "cell_type": "code",
   "execution_count": null,
   "metadata": {},
   "outputs": [],
   "source": [
    "gc = pygsheets.authorize(service_account_env_var = 'GSHEET_API_CREDENTIALS')\n",
    "\n",
    "sh = gc.open_by_url('https://docs.google.com/spreadsheets/d/1C59nxtgcnwGyo6lgypsgN18duxmwWigjeVdKY58t0mU')\n",
    "\n",
    "cases = sh.worksheet_by_title(\"Det\").get_as_df()\n",
    "deaths = sh.worksheet_by_title(\"Dth\").get_as_df()"
   ]
  },
  {
   "cell_type": "code",
   "execution_count": null,
   "metadata": {},
   "outputs": [],
   "source": [
    "cases = cases.groupby([\"Date\",\"Health Region\",\"Prov\"],as_index=False).sum()"
   ]
  },
  {
   "cell_type": "code",
   "execution_count": null,
   "metadata": {},
   "outputs": [],
   "source": [
    "\n",
    "agg_deaths = deaths.groupby([\"Announced\",\"Region\",\"Prov\"],as_index=False).count()\n",
    "\n",
    "agg_deaths = agg_deaths.filter([\"Announced\",\"Region\",\"Prov\",\"#\"]).rename(columns={\"Announced\":\"Date\",\"Prov\":\"Province\",\"#\": \"Deaths\"})"
   ]
  },
  {
   "cell_type": "code",
   "execution_count": null,
   "metadata": {},
   "outputs": [],
   "source": [
    "cases = cases.rename(columns={\"Health Region\":\"Region\",\"Prov\":\"Province\",\"Total\": \"Cases\"})"
   ]
  },
  {
   "cell_type": "code",
   "execution_count": null,
   "metadata": {},
   "outputs": [],
   "source": [
    "province_level_df = cases.merge(agg_deaths,how='outer',on=['Date','Province','Region'],validate='one_to_one')"
   ]
  },
  {
   "cell_type": "code",
   "execution_count": null,
   "metadata": {},
   "outputs": [],
   "source": [
    "province_level_df[\"Date\"] = pd.to_datetime( province_level_df[\"Date\"].str.replace('-', '-2020-'), format=\"%d-%Y-%b\")\n",
    "province_level_df['Last_Reported_Flag'] = province_level_df['Date'] == province_level_df['Date'].max()"
   ]
  },
  {
   "cell_type": "markdown",
   "metadata": {},
   "source": [
    "### Replacements for ISO-3316-2 compliance"
   ]
  },
  {
   "cell_type": "code",
   "execution_count": null,
   "metadata": {},
   "outputs": [],
   "source": [
    "province_level_df[\"State/Region\"] = \"Canada\"\n",
    "province_level_df[\"ISO3166_1\"] = \"CA\"\n",
    "province_level_df[\"ISO3166_2\"] = province_level_df[\"Province\"]\n",
    "province_level_df[\"Province\"] = province_level_df[\"Province\"].str.replace(\"RC\",\"ON\").apply(lambda n: pycountry.subdivisions.get(code=\"CA-\"+ n).name )\n",
    "\n"
   ]
  },
  {
   "cell_type": "markdown",
   "metadata": {},
   "source": [
    "### Add time stamp for last update"
   ]
  },
  {
   "cell_type": "code",
   "execution_count": null,
   "metadata": {},
   "outputs": [],
   "source": [
    "province_level_df[\"Last_Updated_Date\"] = datetime.datetime.utcnow()\n",
    "\n"
   ]
  },
  {
   "cell_type": "markdown",
   "metadata": {},
   "source": [
    "# Export to CSV"
   ]
  },
  {
   "cell_type": "code",
   "execution_count": null,
   "metadata": {},
   "outputs": [],
   "source": [
    "province_level_df.to_csv(path_or_buf=output_folder + \"VH_CAN_DETAILED.csv\",\n",
    "                         header=True,\n",
    "                         columns=[\"Date\",\"Province\", \"Region\", \"Cases\", \"Deaths\", \"ISO3166_1\", \"ISO3166_2\",\"Last_Reported_Flag\", \"Last_Updated_Date\"],\n",
    "                         index=False)"
   ]
  }
 ],
 "metadata": {
  "celltoolbar": "Tags",
  "kernelspec": {
   "display_name": "Python 3",
   "language": "python",
   "name": "python3"
  },
  "language_info": {
   "codemirror_mode": {
    "name": "ipython",
    "version": 3
   },
   "file_extension": ".py",
   "mimetype": "text/x-python",
   "name": "python",
   "nbconvert_exporter": "python",
   "pygments_lexer": "ipython3",
   "version": "3.7.6"
  }
 },
 "nbformat": 4,
 "nbformat_minor": 4
}
