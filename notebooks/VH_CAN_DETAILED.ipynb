{
 "cells": [
  {
   "cell_type": "markdown",
   "metadata": {},
   "source": [
    "# Detailed CA data\n",
    "\n",
    "This notebook pulls in detailed data from Canada using the [ViriHealth](https://virihealth.com) website.\n",
    "\n",
    "This notebook requires `lxml`."
   ]
  },
  {
   "cell_type": "code",
   "execution_count": null,
   "metadata": {},
   "outputs": [],
   "source": [
    "import pandas as pd\n",
    "from bs4 import BeautifulSoup\n",
    "import requests\n",
    "import pycountry\n",
    "import datetime\n",
    "import pytz"
   ]
  },
  {
   "cell_type": "code",
   "execution_count": null,
   "metadata": {
    "tags": [
     "parameters"
    ]
   },
   "outputs": [],
   "source": [
    "# papermill parameters\n",
    "output_folder = \"../output/\""
   ]
  },
  {
   "cell_type": "code",
   "execution_count": null,
   "metadata": {},
   "outputs": [],
   "source": [
    "url = \"https://virihealth.com\"\n",
    "html = requests.get(url)\n",
    "soup = BeautifulSoup(html.content, 'html5lib')"
   ]
  },
  {
   "cell_type": "markdown",
   "metadata": {},
   "source": [
    "## National level data"
   ]
  },
  {
   "cell_type": "code",
   "execution_count": null,
   "metadata": {},
   "outputs": [],
   "source": [
    "summary_table = soup.find_all(\"table\")[0]\n",
    "summary_df = pd.read_html(str(summary_table), header=None)[0]"
   ]
  },
  {
   "cell_type": "code",
   "execution_count": null,
   "metadata": {},
   "outputs": [],
   "source": [
    "last_update = summary_df.columns[1]"
   ]
  },
  {
   "cell_type": "code",
   "execution_count": null,
   "metadata": {},
   "outputs": [],
   "source": [
    "summary_df.columns = [\"indicator\", \"value\"]"
   ]
  },
  {
   "cell_type": "code",
   "execution_count": null,
   "metadata": {},
   "outputs": [],
   "source": [
    "summary_df"
   ]
  },
  {
   "cell_type": "markdown",
   "metadata": {},
   "source": [
    "## Province level data"
   ]
  },
  {
   "cell_type": "code",
   "execution_count": null,
   "metadata": {},
   "outputs": [],
   "source": [
    "province_level_data = soup.find_all(\"table\")[1]\n",
    "province_level_df = pd.read_html(str(province_level_data), header=None)[0]\n",
    "province_level_df.columns = [\"Province/State\", \"Cases\", \"Deaths\", \"Cases_per_million\"]"
   ]
  },
  {
   "cell_type": "markdown",
   "metadata": {},
   "source": [
    "### Replacements for ISO-3316-2 compliance"
   ]
  },
  {
   "cell_type": "code",
   "execution_count": null,
   "metadata": {},
   "outputs": [],
   "source": [
    "province_level_df.drop(province_level_df.index.max(), inplace=True)"
   ]
  },
  {
   "cell_type": "code",
   "execution_count": null,
   "metadata": {},
   "outputs": [],
   "source": [
    "province_level_df.replace({\n",
    "    \"Newfoundland\": \"Newfoundland and Labrador\",\n",
    "    \"PEI\": \"Prince Edward Island\",\n",
    "    \"Yukon\": \"Yukon Territory\"\n",
    "}, inplace=True)"
   ]
  },
  {
   "cell_type": "code",
   "execution_count": null,
   "metadata": {},
   "outputs": [],
   "source": [
    "subdivisions = {s.name: s.code.replace(\"CA-\", \"\") for s in pycountry.subdivisions.get(country_code=\"CA\")}"
   ]
  },
  {
   "cell_type": "code",
   "execution_count": null,
   "metadata": {},
   "outputs": [],
   "source": [
    "province_level_df[\"State/Region\"] = \"Canada\"\n",
    "province_level_df[\"ISO3166_1\"] = \"CA\"\n",
    "province_level_df[\"ISO3166_2\"] = province_level_df.apply(lambda x: subdivisions.get(x[\"Province/State\"], \"\"), axis=1)"
   ]
  },
  {
   "cell_type": "markdown",
   "metadata": {},
   "source": [
    "### Add time stamp for last update"
   ]
  },
  {
   "cell_type": "code",
   "execution_count": null,
   "metadata": {},
   "outputs": [],
   "source": [
    "# update_timestamp = datetime.datetime.strptime(last_update, \"%B %d, %Y %I:%M%p %Z\").astimezone(pytz.UTC)"
   ]
  },
  {
   "cell_type": "code",
   "execution_count": null,
   "metadata": {},
   "outputs": [],
   "source": [
    "# province_level_df[\"Last_Update_Date\"] = update_timestamp"
   ]
  },
  {
   "cell_type": "markdown",
   "metadata": {},
   "source": [
    "# Export to CSV"
   ]
  },
  {
   "cell_type": "code",
   "execution_count": null,
   "metadata": {},
   "outputs": [],
   "source": [
    "province_level_df.to_csv(path_or_buf=output_folder + \"VH_CAN_DETAILED.csv\",\n",
    "                         header=True,\n",
    "                         columns=[\"State/Region\", \"Province/State\", \"Cases\", \"Deaths\", \"Cases_per_million\", \"ISO3166_1\", \"ISO3166_2\"],\n",
    "                         index=False)"
   ]
  }
 ],
 "metadata": {
  "celltoolbar": "Tags",
  "kernelspec": {
   "display_name": "Python 3",
   "language": "python",
   "name": "python3"
  },
  "language_info": {
   "codemirror_mode": {
    "name": "ipython",
    "version": 3
   },
   "file_extension": ".py",
   "mimetype": "text/x-python",
   "name": "python",
   "nbconvert_exporter": "python",
   "pygments_lexer": "ipython3",
   "version": "3.7.5"
  }
 },
 "nbformat": 4,
 "nbformat_minor": 4
}
