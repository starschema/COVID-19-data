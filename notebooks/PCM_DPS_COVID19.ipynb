{
 "cells": [
  {
   "cell_type": "markdown",
   "metadata": {},
   "source": [
    "# Process Italian Covid-19 Data\n",
    "\n",
    "v2 20200316\n",
    "\n",
    "Addressing review comments:\n",
    "* *Diff should be the difference since yesterday in case the total case is a running sum. I do not know if this data is a daily snapshot or a running sum. But the goal is to have columns where we can see for instance in case of \"Recovered\" how many reported recoveries happened since yesterday.* --> This notebook caclulates DIFFs as today's snapshot data minus yesterday's snapshot data for Hospitalized, Intensive Care, Total Hospitalized (sum of Hospitalized and Intensive Care), Home Isolation, Total Positive, Discharged Healed, Deceased, Total Cases and Tested. New Positive cases are not calculated here as they are provided as change since yesterday in the source data. In v2 corrected total cases vs active cases issue.\n",
    "* *please call the workbook as PCM_DPS_COVID19 to know who is the data provider* --> notebook renamed to PCM_DPS_COVID19\n",
    "* *we move S3 upload to a different place (out from the notebook).* --> S3 uplaod removed (changed to markup)\n",
    "* *Please output PCM_DPS_COVID19.csv as output (same as the basename of the notebook)* --> output file renamed (easily configurable in Parameters section)\n",
    "\n",
    "\n",
    "v1 20200313\n",
    "\n",
    "* Load latest Covid-19 data from [https://github.com/pcm-dpc/COVID-19](https://github.com/pcm-dpc/COVID-19)\n",
    "* Transform for easy reporting (calcualte day-to-day changes, rename columns)\n",
    "* Create summary file, similar to international data\n",
    "* Upload to S3 bucket\n"
   ]
  },
  {
   "cell_type": "markdown",
   "metadata": {},
   "source": [
    "## Imports"
   ]
  },
  {
   "cell_type": "code",
   "execution_count": null,
   "metadata": {
    "_cell_guid": "b1076dfc-b9ad-4769-8c92-a6c4dae69d19",
    "_uuid": "8f2839f25d086af736a60e9eeb907d3b93b6e0e5"
   },
   "outputs": [],
   "source": [
    "import numpy as np\n",
    "import pandas as pd\n",
    "import datetime as dt\n",
    "import os\n",
    "\n",
    "import boto3\n",
    "from botocore.exceptions import ClientError"
   ]
  },
  {
   "cell_type": "code",
   "execution_count": null,
   "metadata": {
    "tags": [
     "parameters"
    ]
   },
   "outputs": [],
   "source": [
    "# papermill parameters\n",
    "output_folder = '../output/'"
   ]
  },
  {
   "cell_type": "markdown",
   "metadata": {},
   "source": [
    "## Parameters"
   ]
  },
  {
   "cell_type": "code",
   "execution_count": null,
   "metadata": {},
   "outputs": [],
   "source": [
    "INPUT_FILE = 'https://raw.githubusercontent.com/pcm-dpc/COVID-19/master/dati-regioni/dpc-covid19-ita-regioni.csv'\n",
    "OUTPUT_FILE_FULL = 'PCM_DPS_COVID19-DETAILS.csv'\n",
    "OUTPUT_FILE_SUMMARY = 'PCM_DPS_COVID19.csv'"
   ]
  },
  {
   "cell_type": "markdown",
   "metadata": {},
   "source": [
    "## Input data"
   ]
  },
  {
   "cell_type": "code",
   "execution_count": null,
   "metadata": {
    "_cell_guid": "",
    "_uuid": ""
   },
   "outputs": [],
   "source": [
    "data_ita = pd.read_csv(INPUT_FILE)"
   ]
  },
  {
   "cell_type": "code",
   "execution_count": null,
   "metadata": {},
   "outputs": [],
   "source": [
    "# data_ita.columns: \n",
    "# ['data', 'stato', 'codice_regione', 'denominazione_regione', 'lat', 'long', 'ricoverati_con_sintomi', 'terapia_intensiva', 'totale_ospedalizzati', \n",
    "# 'isolamento_domiciliare', 'totale_attualmente_positivi', 'nuovi_attualmente_positivi', 'dimessi_guariti', 'deceduti', 'totale_casi', 'tamponi']\n",
    "\n",
    "data_ita.columns = ['Date', 'State', 'Region_Code', 'Region', 'Lat', 'Long', \n",
    "                    'Hospitalized', 'Intensive_Care', 'Total_Hospitalized', \n",
    "                    'Home_Isolation', 'Total_Positive', 'New_Positive', \n",
    "                    'Discharged_Healed', 'Deceased', 'Total_Cases', 'Tested']\n"
   ]
  },
  {
   "cell_type": "code",
   "execution_count": null,
   "metadata": {},
   "outputs": [],
   "source": [
    "data_ita.info()"
   ]
  },
  {
   "cell_type": "code",
   "execution_count": null,
   "metadata": {},
   "outputs": [],
   "source": [
    "# number of regions, number of dates\n",
    "r = data_ita.Region.nunique()\n",
    "d = data_ita.Date.nunique()\n",
    "r, d, r*d"
   ]
  },
  {
   "cell_type": "markdown",
   "metadata": {},
   "source": [
    "## Transform data"
   ]
  },
  {
   "cell_type": "code",
   "execution_count": null,
   "metadata": {},
   "outputs": [],
   "source": [
    "data_ita.Date = pd.to_datetime(data_ita.Date).dt.floor('d')\n"
   ]
  },
  {
   "cell_type": "code",
   "execution_count": null,
   "metadata": {},
   "outputs": [],
   "source": [
    "# calculate day-to-day changes for all figures (except new positive)\n",
    "data_ita = data_ita.sort_values(by=['Region_Code', 'Date'])\n",
    "data_ita['Hospitalized_Since_Prev_Day'] = data_ita.groupby(['Region_Code'])['Hospitalized'].diff().fillna(0).astype(int)\n",
    "data_ita['Intensive_Care_Since_Prev_Day'] = data_ita.groupby(['Region_Code'])['Intensive_Care'].diff().fillna(0).astype(int)\n",
    "data_ita['Total_Hospitalized_Since_Prev_Day'] = data_ita.groupby(['Region_Code'])['Total_Hospitalized'].diff().fillna(0).astype(int)\n",
    "data_ita['Home_Isolation_Since_Prev_Day'] = data_ita.groupby(['Region_Code'])['Home_Isolation'].diff().fillna(0).astype(int)\n",
    "data_ita['Total_Positive_Since_Prev_Day'] = data_ita.groupby(['Region_Code'])['Total_Positive'].diff().fillna(0).astype(int)\n",
    "data_ita['Discharged_Healed_Since_Prev_Day'] = data_ita.groupby(['Region_Code'])['Discharged_Healed'].diff().fillna(0).astype(int)\n",
    "data_ita['Deceased_Since_Prev_Day'] = data_ita.groupby(['Region_Code'])['Deceased'].diff().fillna(0).astype(int)\n",
    "data_ita['Total_Cases_Since_Prev_Day'] = data_ita.groupby(['Region_Code'])['Total_Cases'].diff().fillna(0).astype(int)\n",
    "data_ita['Tested_Since_Prev_Day'] = data_ita.groupby(['Region_Code'])['Tested'].diff().fillna(0).astype(int)\n"
   ]
  },
  {
   "cell_type": "code",
   "execution_count": null,
   "metadata": {},
   "outputs": [],
   "source": [
    "data_ita.tail(10)"
   ]
  },
  {
   "cell_type": "code",
   "execution_count": null,
   "metadata": {},
   "outputs": [],
   "source": [
    "data_ita.to_csv(output_folder + OUTPUT_FILE_FULL, index=False)"
   ]
  },
  {
   "cell_type": "code",
   "execution_count": null,
   "metadata": {},
   "outputs": [],
   "source": [
    "data_ita.info()"
   ]
  },
  {
   "cell_type": "code",
   "execution_count": null,
   "metadata": {},
   "outputs": [],
   "source": [
    "columns_summary = ['Country/Region', 'Province/State', 'Date', 'Cases', 'Long', 'Lat', 'Difference']\n",
    "\n",
    "data_ita_confirmed = data_ita[['State', 'Region', 'Date', 'Total_Cases' , 'Long', 'Lat', 'Total_Cases_Since_Prev_Day']].copy()\n",
    "data_ita_confirmed.columns = columns_summary\n",
    "data_ita_confirmed['Case_Type'] = 'Confirmed'\n",
    "\n",
    "data_ita_deceased = data_ita[['State', 'Region', 'Date', 'Deceased' , 'Long', 'Lat', 'Deceased_Since_Prev_Day']].copy()\n",
    "data_ita_deceased.columns = columns_summary\n",
    "data_ita_deceased['Case_Type'] = 'Deceased'\n",
    "\n",
    "data_ita_recovered = data_ita[['State', 'Region', 'Date', 'Discharged_Healed' , 'Long', 'Lat', 'Discharged_Healed_Since_Prev_Day']].copy()\n",
    "data_ita_recovered.columns = columns_summary\n",
    "data_ita_recovered['Case_Type'] = 'Recovered'\n",
    "\n",
    "data_ita_active = data_ita[['State', 'Region', 'Date', 'Total_Positive' , 'Long', 'Lat', 'Total_Positive_Since_Prev_Day']].copy()\n",
    "data_ita_active.columns = columns_summary\n",
    "data_ita_active['Case_Type'] = 'Active'"
   ]
  },
  {
   "cell_type": "code",
   "execution_count": null,
   "metadata": {},
   "outputs": [],
   "source": [
    "data_ita_summary = pd.concat([data_ita_confirmed, data_ita_deceased, data_ita_recovered, data_ita_active], ignore_index = True)"
   ]
  },
  {
   "cell_type": "code",
   "execution_count": null,
   "metadata": {},
   "outputs": [],
   "source": [
    "data_ita_summary.to_csv(output_folder + OUTPUT_FILE_SUMMARY, index=False)"
   ]
  }
 ],
 "metadata": {
  "celltoolbar": "Tags",
  "kernelspec": {
   "display_name": "Python 3",
   "language": "python",
   "name": "python3"
  },
  "language_info": {
   "codemirror_mode": {
    "name": "ipython",
    "version": 3
   },
   "file_extension": ".py",
   "mimetype": "text/x-python",
   "name": "python",
   "nbconvert_exporter": "python",
   "pygments_lexer": "ipython3",
   "version": "3.7.5"
  }
 },
 "nbformat": 4,
 "nbformat_minor": 4
}
