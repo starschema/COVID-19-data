{
 "cells": [
  {
   "cell_type": "markdown",
   "metadata": {},
   "source": [
    "# Processing the Italian COVID-19 Data"
   ]
  },
  {
   "cell_type": "markdown",
   "metadata": {},
   "source": [
    "## Imports"
   ]
  },
  {
   "cell_type": "code",
   "execution_count": null,
   "metadata": {
    "_cell_guid": "b1076dfc-b9ad-4769-8c92-a6c4dae69d19",
    "_uuid": "8f2839f25d086af736a60e9eeb907d3b93b6e0e5"
   },
   "outputs": [],
   "source": [
    "import numpy as np\n",
    "import pandas as pd\n",
    "import datetime as dt\n",
    "import os\n",
    "import pycountry"
   ]
  },
  {
   "cell_type": "code",
   "execution_count": null,
   "metadata": {
    "tags": [
     "parameters"
    ]
   },
   "outputs": [],
   "source": [
    "# papermill parameters\n",
    "output_folder = '../output/'"
   ]
  },
  {
   "cell_type": "markdown",
   "metadata": {},
   "source": [
    "## Parameters"
   ]
  },
  {
   "cell_type": "code",
   "execution_count": null,
   "metadata": {},
   "outputs": [],
   "source": [
    "INPUT_FILE = 'https://raw.githubusercontent.com/pcm-dpc/COVID-19/master/dati-regioni/dpc-covid19-ita-regioni.csv'\n",
    "OUTPUT_FILE_FULL = 'PCM_DPS_COVID19-DETAILS.csv'\n",
    "OUTPUT_FILE_SUMMARY = 'PCM_DPS_COVID19.csv'"
   ]
  },
  {
   "cell_type": "markdown",
   "metadata": {},
   "source": [
    "## Input data"
   ]
  },
  {
   "cell_type": "code",
   "execution_count": null,
   "metadata": {
    "_cell_guid": "",
    "_uuid": ""
   },
   "outputs": [],
   "source": [
    "data = pd.read_csv(INPUT_FILE)"
   ]
  },
  {
   "cell_type": "code",
   "execution_count": null,
   "metadata": {},
   "outputs": [],
   "source": [
    "data.columns"
   ]
  },
  {
   "cell_type": "code",
   "execution_count": null,
   "metadata": {},
   "outputs": [],
   "source": [
    "data.columns = ['Date', 'State', 'Region_Code', 'Region', 'Lat', 'Long', \n",
    "                    'Hospitalized', 'Intensive_Care', 'Total_Hospitalized', \n",
    "                    'Home_Isolation', 'Total_Positive', 'Variation_Total_Positive', 'New_Positive', \n",
    "                    'Discharged_Healed', 'Deceased', 'Total_Cases', 'Tested', \"Note_IT\", \"Note_EN\"]"
   ]
  },
  {
   "cell_type": "code",
   "execution_count": null,
   "metadata": {},
   "outputs": [],
   "source": [
    "subdivisions = {k.name: k.code.replace(\"IT-\", \"\") for k in pycountry.subdivisions.get(country_code=\"IT\")}"
   ]
  },
  {
   "cell_type": "code",
   "execution_count": null,
   "metadata": {},
   "outputs": [],
   "source": [
    "data.replace({\"P.A. Bolzano\": \"Bolzano\",\n",
    "              \"P.A. Trento\": \"Trento\",\n",
    "              \"Emilia Romagna\": \"Emilia-Romagna\",\n",
    "              \"Friuli Venezia Giulia\": \"Friuli-Venezia Giulia\"}, inplace=True)"
   ]
  },
  {
   "cell_type": "code",
   "execution_count": null,
   "metadata": {},
   "outputs": [],
   "source": [
    "data[\"ISO3166_1\"] = \"IT\"\n",
    "data[\"ISO3166_2\"] = data[\"Region\"].apply(lambda x: subdivisions.get(x))"
   ]
  },
  {
   "cell_type": "markdown",
   "metadata": {},
   "source": [
    "## Transform data"
   ]
  },
  {
   "cell_type": "code",
   "execution_count": null,
   "metadata": {},
   "outputs": [],
   "source": [
    "data.Date = pd.to_datetime(data.Date).dt.floor('d')"
   ]
  },
  {
   "cell_type": "code",
   "execution_count": null,
   "metadata": {},
   "outputs": [],
   "source": [
    "# calculate day-to-day changes for all figures (except new positive)\n",
    "data = data.sort_values(by=['Region_Code', 'Date', 'ISO3166_1', 'ISO3166_2'])"
   ]
  },
  {
   "cell_type": "code",
   "execution_count": null,
   "metadata": {},
   "outputs": [],
   "source": [
    "data['Hospitalized_Since_Prev_Day'] = data.groupby(['Region_Code'])['Hospitalized'].diff().fillna(0).astype(int)\n",
    "data['Intensive_Care_Since_Prev_Day'] = data.groupby(['Region_Code'])['Intensive_Care'].diff().fillna(0).astype(int)\n",
    "data['Total_Hospitalized_Since_Prev_Day'] = data.groupby(['Region_Code'])['Total_Hospitalized'].diff().fillna(0).astype(int)\n",
    "data['Home_Isolation_Since_Prev_Day'] = data.groupby(['Region_Code'])['Home_Isolation'].diff().fillna(0).astype(int)\n",
    "data['Total_Positive_Since_Prev_Day'] = data.groupby(['Region_Code'])['Total_Positive'].diff().fillna(0).astype(int)\n",
    "data['Discharged_Healed_Since_Prev_Day'] = data.groupby(['Region_Code'])['Discharged_Healed'].diff().fillna(0).astype(int)\n",
    "data['Deceased_Since_Prev_Day'] = data.groupby(['Region_Code'])['Deceased'].diff().fillna(0).astype(int)\n",
    "data['Total_Cases_Since_Prev_Day'] = data.groupby(['Region_Code'])['Total_Cases'].diff().fillna(0).astype(int)\n",
    "data['Tested_Since_Prev_Day'] = data.groupby(['Region_Code'])['Tested'].diff().fillna(0).astype(int)"
   ]
  },
  {
   "cell_type": "code",
   "execution_count": null,
   "metadata": {},
   "outputs": [],
   "source": [
    "data.rename(columns={\"State\": \"Country/Region\", \"Region\": \"Province/State\"}, inplace=True)\n",
    "data[\"Country/Region\"] = \"Italy\"\n",
    "data.drop(\"Region_Code\", axis=1)"
   ]
  },
  {
   "cell_type": "code",
   "execution_count": null,
   "metadata": {},
   "outputs": [],
   "source": [
    "data.to_csv(output_folder + OUTPUT_FILE_FULL, index=False, \n",
    "            header=True,\n",
    "            columns=[\"Country/Region\", \"Province/State\", \"Date\", \"Hospitalized\", \"Intensive_Care\", \"Total_Hospitalized\",  'Home_Isolation', 'Total_Positive', 'New_Positive', 'Discharged_Healed', 'Deceased', 'Total_Cases', 'Tested', \n",
    "                  'Hospitalized_Since_Prev_Day', 'Intensive_Care_Since_Prev_Day',\n",
    "                  'Total_Hospitalized_Since_Prev_Day', 'Home_Isolation_Since_Prev_Day',\n",
    "                  'Total_Positive_Since_Prev_Day', 'Discharged_Healed_Since_Prev_Day',\n",
    "                  'Deceased_Since_Prev_Day', 'Total_Cases_Since_Prev_Day',\n",
    "                  'Tested_Since_Prev_Day', \"ISO3166_1\", \"ISO3166_2\", \"Note_IT\", \"Note_EN\"])"
   ]
  },
  {
   "cell_type": "code",
   "execution_count": null,
   "metadata": {},
   "outputs": [],
   "source": [
    "columns_summary = ['Country/Region', 'Province/State', 'Date', 'Cases', 'Lat', 'Long', 'Difference', 'ISO3166_1', 'ISO3166_2']\n",
    "\n",
    "data_confirmed = data[['Country/Region', 'Province/State', 'Date', 'Total_Cases' , 'Lat', 'Long', 'Total_Cases_Since_Prev_Day', 'ISO3166_1', 'ISO3166_2']].copy()\n",
    "data_confirmed.columns = columns_summary\n",
    "data_confirmed['Case_Type'] = 'Confirmed'\n",
    "\n",
    "data_deceased = data[['Country/Region', 'Province/State', 'Date', 'Deceased' , 'Lat', 'Long', 'Deceased_Since_Prev_Day', 'ISO3166_1', 'ISO3166_2']].copy()\n",
    "data_deceased.columns = columns_summary\n",
    "data_deceased['Case_Type'] = 'Deceased'\n",
    "\n",
    "data_recovered = data[['Country/Region', 'Province/State', 'Date', 'Discharged_Healed' , 'Lat', 'Long', 'Discharged_Healed_Since_Prev_Day', 'ISO3166_1', 'ISO3166_2']].copy()\n",
    "data_recovered.columns = columns_summary\n",
    "data_recovered['Case_Type'] = 'Recovered'\n",
    "\n",
    "data_active = data[['Country/Region', 'Province/State', 'Date', 'Total_Positive' , 'Lat', 'Long', 'Total_Positive_Since_Prev_Day', 'ISO3166_1', 'ISO3166_2']].copy()\n",
    "data_active.columns = columns_summary\n",
    "data_active['Case_Type'] = 'Active'"
   ]
  },
  {
   "cell_type": "code",
   "execution_count": null,
   "metadata": {},
   "outputs": [],
   "source": [
    "data_summary = pd.concat([data_confirmed, data_deceased, data_recovered, data_active], ignore_index = True)\n",
    "data_summary = data_summary[['Country/Region', 'Province/State','Date','Case_Type', 'Cases', 'Lat', 'Long', 'Difference', 'ISO3166_1', 'ISO3166_2']]"
   ]
  },
  {
   "cell_type": "code",
   "execution_count": null,
   "metadata": {},
   "outputs": [],
   "source": [
    "data_summary[\"Last_Update_Date\"] = dt.datetime.utcnow()\n",
    "data_summary.to_csv(output_folder + OUTPUT_FILE_SUMMARY, index=False)"
   ]
  }
 ],
 "metadata": {
  "celltoolbar": "Tags",
  "kernelspec": {
   "display_name": "Python 3",
   "language": "python",
   "name": "python3"
  },
  "language_info": {
   "codemirror_mode": {
    "name": "ipython",
    "version": 3
   },
   "file_extension": ".py",
   "mimetype": "text/x-python",
   "name": "python",
   "nbconvert_exporter": "python",
   "pygments_lexer": "ipython3",
   "version": "3.7.5"
  }
 },
 "nbformat": 4,
 "nbformat_minor": 4
}
