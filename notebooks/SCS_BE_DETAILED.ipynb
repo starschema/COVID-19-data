{
 "cells": [
  {
   "cell_type": "code",
   "execution_count": null,
   "metadata": {},
   "outputs": [],
   "source": [
    "import pandas as pd\n",
    "import datetime"
   ]
  },
  {
   "cell_type": "code",
   "execution_count": null,
   "metadata": {},
   "outputs": [],
   "source": [
    "df_age_sex_province = pd.read_csv(\"https://epistat.sciensano.be/Data/COVID19BE_CASES_AGESEX.csv\", encoding=\"ISO-8859-1\")\n",
    "df_hospitalisations = pd.read_csv(\"https://epistat.sciensano.be/Data/COVID19BE_HOSP.csv\", encoding=\"ISO-8859-1\")\n",
    "df_mortality = pd.read_csv(\"https://epistat.sciensano.be/Data/COVID19BE_MORT.csv\", encoding=\"ISO-8859-1\")\n",
    "df_tests = pd.read_csv(\"https://epistat.sciensano.be/Data/COVID19BE_tests.csv\", encoding=\"ISO-8859-1\")"
   ]
  },
  {
   "cell_type": "code",
   "execution_count": null,
   "metadata": {
    "tags": [
     "parameters"
    ]
   },
   "outputs": [],
   "source": [
    "# papermill parameters\n",
    "output_folder = \"../output/\""
   ]
  },
  {
   "cell_type": "markdown",
   "metadata": {},
   "source": [
    "# DQ fixes"
   ]
  },
  {
   "cell_type": "markdown",
   "metadata": {},
   "source": [
    "## Filtering out rows that have no dates"
   ]
  },
  {
   "cell_type": "code",
   "execution_count": null,
   "metadata": {},
   "outputs": [],
   "source": [
    "df_age_sex_province = df_age_sex_province[df_age_sex_province[\"DATE\"].isna() == False]\n",
    "df_hospitalisations = df_hospitalisations[df_hospitalisations[\"DATE\"].isna() == False]\n",
    "df_mortality = df_mortality[df_mortality[\"DATE\"].isna() == False]\n",
    "df_tests = df_tests[df_tests[\"DATE\"].isna() == False]"
   ]
  },
  {
   "cell_type": "markdown",
   "metadata": {},
   "source": [
    "## Recoding to ISO-3166-1, ISO-3166-2 and ISO-3166-3"
   ]
  },
  {
   "cell_type": "code",
   "execution_count": null,
   "metadata": {},
   "outputs": [],
   "source": [
    "province_codes = {\n",
    "    \"Liège\": {\n",
    "        \"iso3166_2\": \"WAL\",\n",
    "        \"iso3166_3\": \"WLG\"\n",
    "    },\n",
    "    \"WestVlaanderen\": {\n",
    "        \"iso3166_2\": \"VLG\",\n",
    "        \"iso3166_3\": \"VWV\"\n",
    "    },\n",
    "    \"Hainaut\": {\n",
    "        \"iso3166_2\": \"WAL\",\n",
    "        \"iso3166_3\": \"WHT\"\n",
    "    },\n",
    "    \"BrabantWallon\": {\n",
    "        \"iso3166_2\": \"WAL\",\n",
    "        \"iso3166_3\": \"WBR\"\n",
    "    },\n",
    "    \"Namur\": {\n",
    "        \"iso3166_2\": \"WAL\",\n",
    "        \"iso3166_3\": \"WNA\"\n",
    "    },\n",
    "    \"Antwerpen\": {\n",
    "        \"iso3166_2\": \"VLG\",\n",
    "        \"iso3166_3\": \"VAN\"\n",
    "    },\n",
    "    \"Brussels\": {\n",
    "        \"iso3166_2\": \"BRU\",\n",
    "        \"iso3166_3\": \"BRU\"\n",
    "    },\n",
    "    \"OostVlaanderen\": {\n",
    "        \"iso3166_2\": \"VLG\",\n",
    "        \"iso3166_3\": \"VOV\"\n",
    "    },\n",
    "    \"VlaamsBrabant\": {\n",
    "        \"iso3166_2\": \"VLG\",\n",
    "        \"iso3166_3\": \"VBR\"\n",
    "    },\n",
    "    \"Limburg\": {\n",
    "        \"iso3166_2\": \"VLG\",\n",
    "        \"iso3166_3\": \"VBR\"\n",
    "    },\n",
    "    \"Luxembourg\": {\n",
    "        \"iso3166_2\": \"WAL\",\n",
    "        \"iso3166_3\": \"WLX\"\n",
    "    }\n",
    "}"
   ]
  },
  {
   "cell_type": "markdown",
   "metadata": {},
   "source": [
    "### Age stratified case counts by sex and province"
   ]
  },
  {
   "cell_type": "code",
   "execution_count": null,
   "metadata": {},
   "outputs": [],
   "source": [
    "df_age_sex_province[\"ISO3166_1\"] = \"BE\"\n",
    "codable_df_asp = df_age_sex_province.loc[df_age_sex_province.PROVINCE.isna() == False]\n",
    "uncodable_df_asp = df_age_sex_province.loc[df_age_sex_province.PROVINCE.isna()]"
   ]
  },
  {
   "cell_type": "code",
   "execution_count": null,
   "metadata": {},
   "outputs": [],
   "source": [
    "codable_df_asp[\"ISO3166_2\"] = codable_df_asp.PROVINCE.apply(lambda x: province_codes[x].get(\"iso3166_2\"))\n",
    "codable_df_asp[\"ISO3166_3\"] = codable_df_asp.PROVINCE.apply(lambda x: province_codes[x].get(\"iso3166_3\"))"
   ]
  },
  {
   "cell_type": "code",
   "execution_count": null,
   "metadata": {},
   "outputs": [],
   "source": [
    "df_age_sex_province = codable_df_asp.append(uncodable_df_asp)"
   ]
  },
  {
   "cell_type": "code",
   "execution_count": null,
   "metadata": {},
   "outputs": [],
   "source": [
    "df_age_sex_province = df_age_sex_province.merge(\n",
    "    df_age_sex_province.groupby(\n",
    "        [\"ISO3166_1\", \"ISO3166_2\", \"ISO3166_3\", \"AGEGROUP\", \"SEX\",\n",
    "         \"DATE\"]).sum().groupby(\n",
    "             [\"ISO3166_1\", \"ISO3166_2\", \"ISO3166_3\", \"AGEGROUP\",\n",
    "              \"SEX\"]).cumsum().reset_index(),\n",
    "    how=\"left\",\n",
    "    on=[\"ISO3166_1\", \"ISO3166_2\", \"ISO3166_3\", \"AGEGROUP\", \"SEX\",\n",
    "        \"DATE\"]).rename(columns={\n",
    "            \"CASES_x\": \"NEW_CASES\",\n",
    "            \"CASES_y\": \"TOTAL_CASES\"\n",
    "        })"
   ]
  },
  {
   "cell_type": "code",
   "execution_count": null,
   "metadata": {},
   "outputs": [],
   "source": [
    "df_age_sex_province[\"TOTAL_CASES\"] = df_age_sex_province.TOTAL_CASES.astype(pd.Int64Dtype())"
   ]
  },
  {
   "cell_type": "markdown",
   "metadata": {},
   "source": [
    "### Hospitalisations by province"
   ]
  },
  {
   "cell_type": "code",
   "execution_count": null,
   "metadata": {},
   "outputs": [],
   "source": [
    "df_hospitalisations[\"ISO3166_1\"] = \"BE\"\n",
    "df_hospitalisations[\"ISO3166_2\"] = df_hospitalisations.PROVINCE.apply(lambda x: province_codes[x].get(\"iso3166_2\"))\n",
    "df_hospitalisations[\"ISO3166_3\"] = df_hospitalisations.PROVINCE.apply(lambda x: province_codes[x].get(\"iso3166_3\"))"
   ]
  },
  {
   "cell_type": "markdown",
   "metadata": {},
   "source": [
    "### Mortality by age, sex and region"
   ]
  },
  {
   "cell_type": "code",
   "execution_count": null,
   "metadata": {},
   "outputs": [],
   "source": [
    "df_mortality[\"ISO3166_1\"] = \"BE\"\n",
    "df_mortality[\"ISO3166_2\"] = df_mortality.REGION.apply(lambda x: {\"Brussels\": \"BRU\", \"Flanders\": \"VLG\", \"Wallonia\": \"WAL\"}.get(x))"
   ]
  },
  {
   "cell_type": "markdown",
   "metadata": {},
   "source": [
    "## Adding last update date"
   ]
  },
  {
   "cell_type": "code",
   "execution_count": null,
   "metadata": {},
   "outputs": [],
   "source": [
    "df_age_sex_province[\"LAST_UPDATED_DATE\"] = datetime.datetime.now()\n",
    "df_hospitalisations[\"LAST_UPDATED_DATE\"] = datetime.datetime.now()\n",
    "df_mortality[\"LAST_UPDATED_DATE\"] = datetime.datetime.now()\n",
    "df_tests[\"LAST_UPDATED_DATE\"] = datetime.datetime.now()"
   ]
  },
  {
   "cell_type": "markdown",
   "metadata": {},
   "source": [
    "## Export to CSV files"
   ]
  },
  {
   "cell_type": "code",
   "execution_count": null,
   "metadata": {},
   "outputs": [],
   "source": [
    "df_age_sex_province.to_csv(\n",
    "    output_folder + \"SCS_BE_DETAILED_PROVINCE_CASE_COUNTS.csv\",\n",
    "    columns=[\n",
    "        \"PROVINCE\", \"REGION\", \"SEX\", \"AGEGROUP\", \"DATE\", \"ISO3166_1\",\n",
    "        \"ISO3166_2\", \"ISO3166_3\", \"NEW_CASES\", \"TOTAL_CASES\",\n",
    "        \"LAST_UPDATED_DATE\"\n",
    "    ],\n",
    "    index=False)"
   ]
  },
  {
   "cell_type": "code",
   "execution_count": null,
   "metadata": {},
   "outputs": [],
   "source": [
    "df_hospitalisations.to_csv(\n",
    "    output_folder + \"SCS_BE_DETAILED_HOSPITALISATIONS.csv\",\n",
    "    columns=[\n",
    "        \"PROVINCE\", \"REGION\", \"DATE\", \"NR_REPORTING\", \"TOTAL_IN\",\n",
    "        \"TOTAL_IN_ICU\", \"TOTAL_IN_RESP\", \"TOTAL_IN_ECMO\", \"NEW_IN\", \"NEW_OUT\",\n",
    "        \"ISO3166_1\", \"ISO3166_2\", \"ISO3166_3\", \"LAST_UPDATED_DATE\"\n",
    "    ], index=False)"
   ]
  },
  {
   "cell_type": "code",
   "execution_count": null,
   "metadata": {},
   "outputs": [],
   "source": [
    "df_mortality.to_csv(output_folder + \"SCS_BE_DETAILED_MORTALITY.csv\",\n",
    "                    columns=[\n",
    "                        \"REGION\", \"SEX\", \"AGEGROUP\", \"DATE\", \"DEATHS\",\n",
    "                        \"ISO3166_1\", \"ISO3166_2\", \"LAST_UPDATED_DATE\"\n",
    "                    ], index=False)"
   ]
  },
  {
   "cell_type": "code",
   "execution_count": null,
   "metadata": {},
   "outputs": [],
   "source": [
    "df_tests.to_csv(output_folder + \"SCS_BE_DETAILED_TESTS.csv\",\n",
    "                columns=[\"DATE\", \"TESTS\", \"LAST_UPDATED_DATE\"], index=False)"
   ]
  }
 ],
 "metadata": {
  "celltoolbar": "Tags",
  "kernelspec": {
   "display_name": "Python 3",
   "language": "python",
   "name": "python3"
  },
  "language_info": {
   "codemirror_mode": {
    "name": "ipython",
    "version": 3
   },
   "file_extension": ".py",
   "mimetype": "text/x-python",
   "name": "python",
   "nbconvert_exporter": "python",
   "pygments_lexer": "ipython3",
   "version": "3.7.5"
  }
 },
 "nbformat": 4,
 "nbformat_minor": 4
}
