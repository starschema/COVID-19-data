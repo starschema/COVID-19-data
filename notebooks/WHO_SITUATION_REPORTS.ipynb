{
 "cells": [
  {
   "cell_type": "markdown",
   "metadata": {},
   "source": [
    "## WHO Coronavirus disease (COVID-2019) situation reports\n",
    "\n",
    "PDF Reports from https://www.who.int/emergencies/diseases/novel-coronavirus-2019/situation-reports in Tabular format.\n"
   ]
  },
  {
   "cell_type": "code",
   "execution_count": 3,
   "metadata": {},
   "outputs": [],
   "source": [
    "import tabula\n",
    "import pandas as pd\n",
    "import pycountry\n",
    "import requests\n",
    "import re\n",
    "from datetime import datetime"
   ]
  },
  {
   "cell_type": "code",
   "execution_count": 4,
   "metadata": {
    "tags": [
     "parameters"
    ]
   },
   "outputs": [],
   "source": [
    "# papermill parameters\n",
    "output_folder = \"../output/\""
   ]
  },
  {
   "cell_type": "code",
   "execution_count": 5,
   "metadata": {},
   "outputs": [],
   "source": [
    "pattern = r'/docs/default-source/coronaviruse/situation-reports/(\\d+-sitrep-\\d+-covid-19).pdf'\n",
    "\n",
    "r = requests.get('https://www.who.int/emergencies/diseases/novel-coronavirus-2019/situation-reports')\n",
    "\n",
    "reports_to_fetch = list(set(re.findall(pattern, r.text)))\n",
    "\n"
   ]
  },
  {
   "cell_type": "code",
   "execution_count": 25,
   "metadata": {},
   "outputs": [
    {
     "data": {
      "text/plain": [
       "['20200324-sitrep-64-covid-19',\n",
       " '20200323-sitrep-63-covid-19',\n",
       " '20200322-sitrep-62-covid-19',\n",
       " '20200321-sitrep-61-covid-19',\n",
       " '20200320-sitrep-60-covid-19',\n",
       " '20200319-sitrep-59-covid-19',\n",
       " '20200318-sitrep-58-covid-19']"
      ]
     },
     "execution_count": 25,
     "metadata": {},
     "output_type": "execute_result"
    }
   ],
   "source": [
    "reports_to_fetch.sort()\n",
    "reports_to_fetch.reverse()\n",
    "reports_to_fetch = reports_to_fetch[0:7]\n",
    "reports_to_fetch"
   ]
  },
  {
   "cell_type": "code",
   "execution_count": 26,
   "metadata": {},
   "outputs": [],
   "source": [
    "all_reports = {}\n",
    "\n",
    "for report in reports_to_fetch:\n",
    "    report_url = \"https://www.who.int/docs/default-source/coronaviruse/situation-reports/\"+ report +\".pdf\"\n",
    "    all_tables = tabula.read_pdf(report_url, pages='all', pandas_options={'header': None},silent=True)\n",
    "    all_reports[report] = all_tables\n"
   ]
  },
  {
   "cell_type": "code",
   "execution_count": null,
   "metadata": {},
   "outputs": [],
   "source": []
  },
  {
   "cell_type": "code",
   "execution_count": 27,
   "metadata": {},
   "outputs": [],
   "source": [
    "country_data = pd.DataFrame([],columns=[])\n",
    "\n",
    "for report, all_tables in all_reports.items():\n",
    "\n",
    "    # Remove all tables without 7 columns\n",
    "    for df in all_tables:\n",
    "        if len(df.columns) == 7:\n",
    "            df = df.rename(columns={0:'Country',1:'Total_Cases',2:'Cases_New',3:'Deaths',4:'Deaths_New',5:'Transmission_Classification',6:'Days_Since_Last_Reported_Case'})\n",
    "            df[\"ISO3166-1\"] = \"\"\n",
    "            df['Country/Region'] = \"\"\n",
    "            df[\"Date\"] = datetime.strptime(report[0:8], '%Y%m%d')\n",
    "            df[\"Situation_Report_name\"] = report\n",
    "            df[\"Situation_Report_URL\"] = \"https://www.who.int/docs/default-source/coronaviruse/situation-reports/\"+ report +\".pdf\"\n",
    "            country_data = country_data.append(df,ignore_index=True)\n",
    "\n",
    "# Remove columns with null country or cases \n",
    "country_data = country_data[country_data['Country'].notnull()]\n",
    "country_data = country_data[country_data['Total_Cases'].notnull()]\n",
    "# header row\n",
    "country_data = country_data[country_data['Days_Since_Last_Reported_Case']!='reported case']\n",
    "country_data = country_data[country_data['Days_Since_Last_Reported_Case'].notnull()]\n",
    "\n"
   ]
  },
  {
   "cell_type": "code",
   "execution_count": 28,
   "metadata": {},
   "outputs": [
    {
     "data": {
      "text/plain": [
       "array(['China', 'Republic of Korea', 'Australia', 'Malaysia', 'Japan',\n",
       "       'Singapore', 'Philippines', 'Viet Nam', 'New Zealand',\n",
       "       'Brunei Darussalam', 'Cambodia', 'Mongolia', 'Fiji',\n",
       "       'Papua New Guinea', 'Guam', 'French Polynesia', 'New Caledonia',\n",
       "       'Italy', 'Spain', 'Germany', 'France', 'Switzerland',\n",
       "       'The United Kingdom', 'Netherlands', 'Austria', 'Belgium',\n",
       "       'Norway', 'Portugal', 'Sweden', 'Turkey', 'Denmark', 'Israel',\n",
       "       'Czechia', 'Ireland', 'Luxembourg', 'Poland', 'Finland', 'Greece',\n",
       "       'Iceland', 'Romania', 'Slovenia', 'Russian Federation', 'Estonia',\n",
       "       'Croatia', 'Serbia', 'Armenia', 'Bulgaria', 'Slovakia', 'Hungary',\n",
       "       'San Marino', 'Latvia', 'Lithuania', 'Andorra', 'North Macedonia',\n",
       "       'Bosnia and\\rHerzegovina', 'Albania', 'Cyprus',\n",
       "       'Republic of Moldova', 'Malta', 'Ukraine', 'Belarus', 'Azerbaijan',\n",
       "       'Georgia', 'Kazakhstan', 'Liechtenstein', 'Uzbekistan', 'Monaco',\n",
       "       'Montenegro', 'Kyrgyzstan', 'Holy See', 'Faroe Islands',\n",
       "       'Kosovo[1]', 'Guernsey', 'Jersey', 'Gibraltar', 'Isle of Man',\n",
       "       'Greenland', 'Thailand', 'Indonesia', 'India', 'Sri Lanka',\n",
       "       'Bangladesh', 'Maldives', 'Bhutan', 'Myanmar', 'Nepal',\n",
       "       'Timor-Leste', 'Iran (Islamic Republic\\rof)', 'Pakistan',\n",
       "       'Saudi Arabia', 'Qatar', 'Bahrain', 'Egypt', 'Lebanon', 'Iraq',\n",
       "       'United Arab Emirates', 'Kuwait', 'Morocco', 'Jordan', 'Tunisia',\n",
       "       'Oman', 'Afghanistan', 'Djibouti', 'Sudan', 'Somalia',\n",
       "       'Syrian Arab Republic', 'occupied Palestinian\\rterritory',\n",
       "       'United States of\\rAmerica', 'Brazil', 'Canada', 'Ecuador',\n",
       "       'Chile', 'Peru', 'Mexico', 'Panama', 'Colombia', 'Argentina',\n",
       "       'Dominican Republic', 'Uruguay', 'Costa Rica',\n",
       "       'Venezuela (Bolivarian\\rRepublic of)', 'Trinidad and Tobago',\n",
       "       'Cuba', 'Honduras', 'Bolivia (Plurinational\\rState of)',\n",
       "       'Paraguay', 'Guatemala', 'Jamaica', 'Barbados', 'Haiti', 'Guyana',\n",
       "       'Bahamas', 'El Salvador', 'Saint Lucia', 'Nicaragua', 'Suriname',\n",
       "       'Antigua and Barbuda', 'Belize', 'Dominica', 'Grenada',\n",
       "       'Saint Vincent and the', 'Guadeloupe', 'Martinique', 'Puerto Rico',\n",
       "       'French Guiana', 'United States Virgin\\rIslands', 'Aruba',\n",
       "       'Saint Martin', 'Bermuda', 'Cayman Islands', 'Curaçao',\n",
       "       'Saint Barthélemy', 'Sint Maarten', 'Montserrat',\n",
       "       'Turks and Caicos\\rIslands', 'South Africa', 'Algeria',\n",
       "       'Burkina Faso', 'Senegal', 'Cameroon',\n",
       "       'Democratic Republic\\rof the Congo', 'Mauritius', 'Rwanda',\n",
       "       'Ghana', 'Côte d’Ivoire', 'Nigeria', 'Togo', 'Kenya', 'Madagascar',\n",
       "       'United Republic of\\rTanzania', 'Ethiopia', 'Uganda', 'Seychelles',\n",
       "       'Equatorial Guinea', 'Gabon', 'Benin', 'Central African\\rRepublic',\n",
       "       'Congo', 'Eswatini', 'Guinea', 'Cabo Verde', 'Chad', 'Liberia',\n",
       "       'Namibia', 'Zambia', 'Angola', 'Mauritania', 'Niger', 'Zimbabwe',\n",
       "       'Eritrea', 'Gambia', 'Mozambique', 'Réunion', 'Mayotte',\n",
       "       'conveyance', 'Saint Vincent and the\\rGrenadines', 'Serbia††',\n",
       "       'Cote d’Ivoire', 'Curacao'], dtype=object)"
      ]
     },
     "execution_count": 28,
     "metadata": {},
     "output_type": "execute_result"
    }
   ],
   "source": [
    "country_data[\"Country\"].unique()"
   ]
  },
  {
   "cell_type": "code",
   "execution_count": 29,
   "metadata": {},
   "outputs": [],
   "source": [
    "changed_names = {\n",
    "    \"The United Kingdom\": \"United Kingdom\",\n",
    "    \"Serbia††\": \"Serbia\",\n",
    "    \"Iran (Islamic Republic of)\": \"Iran\",\n",
    "    \"occupied Palestinian territory\": \"Palestine\",\n",
    "    \"occupied Palestinian Territory\": \"Palestine\",  \n",
    "    \"Occupied Palestinian Territory\": \"Palestine\",        \n",
    "    \"Venezuela (Bolivarian Republic of)\": \"Venezuela\",\n",
    "    \"Bolivia (Plurinational State of)\": \"Bolivia\",\n",
    "    \"Côte d’Ivoire\": \"Côte d'Ivoire\",\n",
    "    \"Cote d’Ivoire\": \"Côte d'Ivoire\",\n",
    "    \"conveyance\": \"International conveyance (Diamond Princess)\",\n",
    "    \"Kosovo[1]\": \"Kosovo\",\n",
    "    \"United States Virgin Islands\": \"Virgin Islands\",\n",
    "    \"Democratic Republic of the Congo\": \"Congo, The Democratic Republic of the\"\n",
    "}\n",
    "\n",
    "country_data[\"Country\"] = country_data[\"Country\"].str.replace('\\r', ' ')\n",
    "country_data[\"Country\"] = country_data[\"Country\"].replace(changed_names)\n",
    "\n",
    "countries = country_data[\"Country\"].unique()\n",
    "\n",
    "country_dict = {}\n",
    "\n",
    "for country in countries:\n",
    "    if not \"conveyance\" in country:\n",
    "        country_dict[country] = pycountry.countries.search_fuzzy( country )[0]\n",
    "    else:\n",
    "        country_dict[country] = None\n",
    "\n",
    "        \n",
    "#country_dict"
   ]
  },
  {
   "cell_type": "code",
   "execution_count": 30,
   "metadata": {},
   "outputs": [],
   "source": [
    "def resolve_iso3166_1_row(row):\n",
    "    country = country_dict[ row[\"Country\"] ]\n",
    "    if country:\n",
    "        row[\"ISO3166-1\"] = country.alpha_2\n",
    "        row['Country/Region'] = country.name\n",
    "    else:\n",
    "        row[\"ISO3166-1\"] = \"\"\n",
    "        row['Country/Region'] = row[\"Country\"]\n",
    "    return row\n",
    "    \n",
    "\n",
    "data = country_data.apply(resolve_iso3166_1_row, axis=\"columns\")\n",
    "        \n"
   ]
  },
  {
   "cell_type": "code",
   "execution_count": null,
   "metadata": {},
   "outputs": [],
   "source": [
    "data.tail()"
   ]
  },
  {
   "cell_type": "markdown",
   "metadata": {},
   "source": [
    "## Adding Metadata\n",
    "\n",
    "Before we save the file locally, we add the `Last_Update_Date` in `UTC` time zone.\n"
   ]
  },
  {
   "cell_type": "code",
   "execution_count": null,
   "metadata": {},
   "outputs": [],
   "source": [
    "data[\"Last_Update_Date\"] = datetime.utcnow()\n"
   ]
  },
  {
   "cell_type": "code",
   "execution_count": null,
   "metadata": {},
   "outputs": [],
   "source": [
    "data.to_csv(output_folder + \"WHO_SITUATION_REPORTS.csv\", index=False)"
   ]
  }
 ],
 "metadata": {
  "kernelspec": {
   "display_name": "Python 3",
   "language": "python",
   "name": "python3"
  },
  "language_info": {
   "codemirror_mode": {
    "name": "ipython",
    "version": 3
   },
   "file_extension": ".py",
   "mimetype": "text/x-python",
   "name": "python",
   "nbconvert_exporter": "python",
   "pygments_lexer": "ipython3",
   "version": "3.7.5"
  }
 },
 "nbformat": 4,
 "nbformat_minor": 2
}
