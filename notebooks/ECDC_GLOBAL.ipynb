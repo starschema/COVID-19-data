{
 "cells": [
  {
   "cell_type": "markdown",
   "metadata": {},
   "source": [
    "# European Centre for Disease Prevention and Control Dataset\n",
    "\n",
    "This is the legacy \"Historical daily dataset\". ECDC stopped providing daily data after December 17.\n",
    "\n",
    "> ECDC switched to a weekly reporting schedule for the COVID-19 situation worldwide and in the EU/EEA and the UK on 17 December this year. Hence, all daily updates have been discontinued from 14 December. ECDC will publish updates on the number of cases and deaths reported worldwide and aggregated by week every Thursday. The weekly data will be available as downloadable files in the following formats: XLSX, CSV, JSON and XML. As an exception, the weekly updates for the end-of-year festive season will be published on 23 December and 30 December 2020.\n",
    "\n",
    "Use weekly table after December 17 - included in the data share too.\n"
   ]
  },
  {
   "cell_type": "code",
   "execution_count": null,
   "metadata": {},
   "outputs": [],
   "source": [
    "import pandas as pd\n",
    "import datetime\n",
    "import pycountry\n",
    "import re\n",
    "import os\n",
    "import numpy as np"
   ]
  },
  {
   "cell_type": "code",
   "execution_count": null,
   "metadata": {
    "tags": [
     "parameters"
    ]
   },
   "outputs": [],
   "source": [
    "# papermill parameters\n",
    "output_folder = \"../output/\""
   ]
  },
  {
   "cell_type": "markdown",
   "metadata": {},
   "source": [
    "### Fetch data"
   ]
  },
  {
   "cell_type": "code",
   "execution_count": null,
   "metadata": {},
   "outputs": [],
   "source": [
    "df = pd.read_excel(\"https://www.ecdc.europa.eu/sites/default/files/documents/COVID-19-geographic-disbtribution-worldwide-2020-12-14.xlsx\",\n",
    "                  engine='openpyxl')"
   ]
  },
  {
   "cell_type": "markdown",
   "metadata": {},
   "source": [
    "### Parse date"
   ]
  },
  {
   "cell_type": "code",
   "execution_count": null,
   "metadata": {},
   "outputs": [],
   "source": [
    "df[\"dateRep\"] = pd.to_datetime(df[\"dateRep\"], format=\"%d/%m/%Y\")"
   ]
  },
  {
   "cell_type": "markdown",
   "metadata": {},
   "source": [
    "### Add difference"
   ]
  },
  {
   "cell_type": "code",
   "execution_count": null,
   "metadata": {},
   "outputs": [],
   "source": [
    "df['CASES_SINCE_PREV_DAY'] = df.groupby(['countriesAndTerritories','continentExp'])['cases'].diff().fillna(0).astype(int)\n",
    "df['DEATHS_SINCE_PREV_DAY'] = df.groupby(['countriesAndTerritories','continentExp'])['deaths'].diff().fillna(0).astype(int)"
   ]
  },
  {
   "cell_type": "markdown",
   "metadata": {},
   "source": [
    "### Drop cols"
   ]
  },
  {
   "cell_type": "code",
   "execution_count": null,
   "metadata": {},
   "outputs": [],
   "source": [
    "df = df.drop(columns=[\"day\", \"month\", \"year\", \"countryterritoryCode\"])"
   ]
  },
  {
   "cell_type": "code",
   "execution_count": null,
   "metadata": {
    "scrolled": true
   },
   "outputs": [],
   "source": [
    "int_conveyance = df[\"geoId\"].loc[\"JPG11668\" == df[\"geoId\"]].index\n",
    "df[\"geoId\"].iloc[int_conveyance] = np.nan\n",
    "df[\"popData2019\"].iloc[int_conveyance] = np.nan\n",
    "df[\"continentExp\"].iloc[int_conveyance] = np.nan\n",
    "df[\"countriesAndTerritories\"].iloc[int_conveyance] = \"Cases on an international conveyance Japan\""
   ]
  },
  {
   "cell_type": "markdown",
   "metadata": {},
   "source": [
    "### Resolve Country/Region name"
   ]
  },
  {
   "cell_type": "code",
   "execution_count": null,
   "metadata": {},
   "outputs": [],
   "source": [
    "country_codes = df[\"geoId\"].unique()\n",
    "for code in country_codes:\n",
    "    try:\n",
    "        pyc = pycountry.countries.get(alpha_2=code)\n",
    "        if pyc:\n",
    "            df[\"countriesAndTerritories\"].loc[code == df[\"geoId\"]] = pyc.name\n",
    "    except LookupError:\n",
    "        df[\"countriesAndTerritories\"].loc[code == df[\"geoId\"]] = None"
   ]
  },
  {
   "cell_type": "markdown",
   "metadata": {},
   "source": [
    "### Set Last Update Date and Last Reported Flag"
   ]
  },
  {
   "cell_type": "code",
   "execution_count": null,
   "metadata": {},
   "outputs": [],
   "source": [
    "df[\"LAST_UPDATE_DATE\"] = datetime.datetime.utcnow()\n",
    "df[\"LAST_REPORTED_FLAG\"] = df[\"dateRep\"].max() == df[\"dateRep\"]"
   ]
  },
  {
   "cell_type": "markdown",
   "metadata": {},
   "source": [
    "### Rename Cols"
   ]
  },
  {
   "cell_type": "code",
   "execution_count": null,
   "metadata": {},
   "outputs": [],
   "source": [
    "df = df.rename(columns={\n",
    "    \"dateRep\": \"DATE\", \n",
    "    \"countriesAndTerritories\": \"COUNTRY_REGION\", \n",
    "    \"geoId\": \"ISO3166_1\", \n",
    "    \"popData2018\": \"POPULATION\",\n",
    "})"
   ]
  },
  {
   "cell_type": "markdown",
   "metadata": {},
   "source": [
    "### Save dataframe"
   ]
  },
  {
   "cell_type": "code",
   "execution_count": null,
   "metadata": {},
   "outputs": [],
   "source": [
    "df.to_csv(output_folder + \"ECDC_GLOBAL.csv\", index=False, columns=[\n",
    "    \"COUNTRY_REGION\",\n",
    "    \"continentExp\",\n",
    "    \"ISO3166_1\",\n",
    "    \"cases\",\n",
    "    \"deaths\",\n",
    "    \"CASES_SINCE_PREV_DAY\",\n",
    "    \"DEATHS_SINCE_PREV_DAY\",\n",
    "    \"popData2019\",\n",
    "    \"DATE\",\n",
    "    \"LAST_UPDATE_DATE\",\n",
    "    \"LAST_REPORTED_FLAG\"\n",
    "])"
   ]
  }
 ],
 "metadata": {
  "celltoolbar": "Tags",
  "kernelspec": {
   "display_name": "Python 3",
   "language": "python",
   "name": "python3"
  },
  "language_info": {
   "codemirror_mode": {
    "name": "ipython",
    "version": 3
   },
   "file_extension": ".py",
   "mimetype": "text/x-python",
   "name": "python",
   "nbconvert_exporter": "python",
   "pygments_lexer": "ipython3",
   "version": "3.9.1"
  }
 },
 "nbformat": 4,
 "nbformat_minor": 4
}
