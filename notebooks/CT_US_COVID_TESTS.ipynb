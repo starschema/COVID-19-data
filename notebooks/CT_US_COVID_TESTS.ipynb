{
 "cells": [
  {
   "cell_type": "markdown",
   "metadata": {},
   "source": [
    "# \"The COVID Tracking Project\"\n",
    "The script pulls data from \"The COVID Tracking Project\"'s API. They're collecting data from 50 US states, the District of Columbia, and 5 other U.S. territories to provide the most comprehensive testing data. They attemptto include positive and negative results, pending tests, and total people tested for each state or district currently reporting that data. \n",
    "Website: https://covidtracking.com/"
   ]
  },
  {
   "cell_type": "code",
   "execution_count": null,
   "metadata": {},
   "outputs": [],
   "source": [
    "import pandas as pd\n",
    "import requests\n",
    "import json\n",
    "import datetime"
   ]
  },
  {
   "cell_type": "code",
   "execution_count": null,
   "metadata": {
    "tags": [
     "parameters"
    ]
   },
   "outputs": [],
   "source": [
    "# papermill parameters\n",
    "output_folder = '../output/'"
   ]
  },
  {
   "cell_type": "code",
   "execution_count": null,
   "metadata": {},
   "outputs": [],
   "source": [
    "raw_response = requests.get(\"https://covidtracking.com/api/states/daily\").text\n",
    "raw_data = pd.DataFrame.from_dict(json.loads(raw_response))\n",
    "raw_data.head(5)"
   ]
  },
  {
   "cell_type": "markdown",
   "metadata": {},
   "source": [
    "### Data Quality\n",
    "1. Replace empty values with zero\n",
    "2. Convert \"date\" int column to \"Date\" datetime column\n",
    "4. Rename columns in order to match with other source\n",
    "5. Drop unnecessary columns\n",
    "6. Add \"Country/Region\" column, since the source contains data from US states, it can be hardcoded"
   ]
  },
  {
   "cell_type": "code",
   "execution_count": null,
   "metadata": {},
   "outputs": [],
   "source": [
    "data = raw_data.fillna(0)\n",
    "data['Date'] = pd.to_datetime(data['date'].astype(str),format='%Y%m%d')\n",
    "data = data.rename(columns = {\"state\":\"Province/State\",\"positive\":\"Positive\", \"negative\": \"Negative\", \"pending\": \"Pending\", \"death\":\"Death\", \"total\":\"Total\"})\n",
    "data = data.drop(labels = ['dateChecked', \"date\"], axis = 'columns')\n",
    "data['Country/Region'] = \"US\""
   ]
  },
  {
   "cell_type": "markdown",
   "metadata": {},
   "source": [
    "1. Sorting data by Province/State before calculating the daily differences"
   ]
  },
  {
   "cell_type": "code",
   "execution_count": null,
   "metadata": {
    "scrolled": true
   },
   "outputs": [],
   "source": [
    "sorted_data = data.sort_values(by=['Province/State'] + ['Date'], ascending=True)"
   ]
  },
  {
   "cell_type": "code",
   "execution_count": null,
   "metadata": {},
   "outputs": [],
   "source": [
    "sorted_data['Positive_Since_Previous_Day'] = sorted_data['Positive'] - sorted_data.groupby(['Province/State'])[\"Positive\"].shift(1, fill_value=0)\n",
    "sorted_data['Total_Since_Previous_Day'] = sorted_data['Total'] - sorted_data.groupby(['Province/State'])[\"Total\"].shift(1, fill_value=0)\n",
    "sorted_data['Negative_Since_Previous_Day'] = sorted_data['Negative'] - sorted_data.groupby(['Province/State'])[\"Negative\"].shift(1, fill_value=0)\n",
    "sorted_data['Pending_Since_Previous_Day'] = sorted_data['Pending'] - sorted_data.groupby(['Province/State'])[\"Pending\"].shift(1, fill_value=0)\n",
    "sorted_data['Death_Since_Previous_Day'] = sorted_data['Death'] - sorted_data.groupby(['Province/State'])[\"Death\"].shift(1, fill_value=0)"
   ]
  },
  {
   "cell_type": "markdown",
   "metadata": {},
   "source": [
    "1. Rearrange columns\n",
    "2. Add \"Last_Update_Date\" column\n",
    "3. Write to csv format"
   ]
  },
  {
   "cell_type": "code",
   "execution_count": null,
   "metadata": {},
   "outputs": [],
   "source": [
    "rearranged_data = sorted_data[['Country/Region', 'Province/State', 'Date',\n",
    "                               'Positive', 'Positive_Since_Previous_Day',\n",
    "                               'Negative', 'Negative_Since_Previous_Day',\n",
    "                               'Pending', 'Pending_Since_Previous_Day',\n",
    "                               'Death', 'Death_Since_Previous_Day',\n",
    "                               'Total', 'Total_Since_Previous_Day']]\n",
    "rearranged_data[\"Last_Update_Date\"] = datetime.datetime.utcnow()\n",
    "rearranged_data.to_csv(output_folder + \"CT_US_COVID_TESTS.csv\", index=False)"
   ]
  }
 ],
 "metadata": {
  "celltoolbar": "Tags",
  "kernelspec": {
   "display_name": "Python 3",
   "language": "python",
   "name": "python3"
  },
  "language_info": {
   "codemirror_mode": {
    "name": "ipython",
    "version": 3
   },
   "file_extension": ".py",
   "mimetype": "text/x-python",
   "name": "python",
   "nbconvert_exporter": "python",
   "pygments_lexer": "ipython3",
   "version": "3.6.5"
  },
  "pycharm": {
   "stem_cell": {
    "cell_type": "raw",
    "source": [],
    "metadata": {
     "collapsed": false
    }
   }
  }
 },
 "nbformat": 4,
 "nbformat_minor": 2
}