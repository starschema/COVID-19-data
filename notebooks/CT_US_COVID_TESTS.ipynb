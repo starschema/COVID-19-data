{
 "cells": [
  {
   "cell_type": "markdown",
   "metadata": {},
   "source": [
    "# Importing from the COVID Tracking Project\n",
    "\n",
    "This script pulls data from the API provided by the [COVID Tracking Project](https://covidtracking.com/). They're collecting data from 50 US states, the District of Columbia, and five U.S. territories to provide the most comprehensive testing data. They attempt to include positive and negative results, pending tests and total people tested for each state or district currently reporting that data."
   ]
  },
  {
   "cell_type": "code",
   "execution_count": null,
   "metadata": {},
   "outputs": [],
   "source": [
    "import pandas as pd\n",
    "import numpy as np\n",
    "import requests\n",
    "import json\n",
    "import datetime\n",
    "import pycountry"
   ]
  },
  {
   "cell_type": "code",
   "execution_count": null,
   "metadata": {
    "tags": [
     "parameters"
    ]
   },
   "outputs": [],
   "source": [
    "# papermill parameters\n",
    "output_folder = '../output/'"
   ]
  },
  {
   "cell_type": "code",
   "execution_count": null,
   "metadata": {},
   "outputs": [],
   "source": [
    "raw_response = requests.get(\"https://covidtracking.com/api/states/daily\").text\n",
    "raw_data = pd.DataFrame.from_dict(json.loads(raw_response))"
   ]
  },
  {
   "cell_type": "markdown",
   "metadata": {},
   "source": [
    "### Data Quality\n",
    "1. Replace empty values with zero\n",
    "2. Convert \"date\" int column to \"Date\" datetime column\n",
    "4. Rename columns in order to match with other source\n",
    "5. Drop unnecessary columns\n",
    "6. Add \"Country/Region\" column, since the source contains data from US states, it can be hardcoded"
   ]
  },
  {
   "cell_type": "code",
   "execution_count": null,
   "metadata": {},
   "outputs": [],
   "source": [
    "data = raw_data #.fillna(0)\n",
    "data['Date'] = pd.to_datetime(data['date'].astype(str), format='%Y%m%d')\n",
    "data = data.rename(\n",
    "    columns={\n",
    "        \"state\": \"ISO3166-2\",\n",
    "        \"totalTestResults\": \"Total\"\n",
    "})\n",
    "data = data.drop(labels=['dateChecked', \"date\",\"hash\"], axis='columns')\n",
    "data['Country/Region'] = \"United States\"\n",
    "data['ISO3166-1'] = \"US\""
   ]
  },
  {
   "cell_type": "code",
   "execution_count": null,
   "metadata": {},
   "outputs": [],
   "source": [
    "states = {k.code.replace(\"US-\", \"\"): k.name for k in pycountry.subdivisions.get(country_code=\"US\")}"
   ]
  },
  {
   "cell_type": "code",
   "execution_count": null,
   "metadata": {},
   "outputs": [],
   "source": [
    "data[\"Province/State\"] = data[\"ISO3166-2\"].apply(lambda x: states[x])"
   ]
  },
  {
   "cell_type": "markdown",
   "metadata": {},
   "source": [
    "## Sorting data by Province/State before calculating the daily differences"
   ]
  },
  {
   "cell_type": "code",
   "execution_count": null,
   "metadata": {},
   "outputs": [],
   "source": [
    "data = data.sort_values(by=['Province/State'] + ['Date'], ascending=True)"
   ]
  },
  {
   "cell_type": "code",
   "execution_count": null,
   "metadata": {},
   "outputs": [],
   "source": [
    " \n",
    "data['pendingIncrease'] = data['pending'] - data.groupby(['Province/State'])[\"pending\"].shift(1)\n",
    "data['hospitalizedCurrentlyIncrease'] = data['hospitalizedCurrently'] - data.groupby(['Province/State'])[\"hospitalizedCurrently\"].shift(1)\n",
    "data['hospitalizedCumulativeIncrease'] = data['hospitalizedCumulative'] - data.groupby(['Province/State'])[\"hospitalizedCumulative\"].shift(1)\n",
    "data['inIcuCurrentlyIncrease'] = data['inIcuCurrently'] - data.groupby(['Province/State'])[\"inIcuCurrently\"].shift(1)\n",
    "data['inIcuCumulativeIncrease'] = data['inIcuCumulative'] - data.groupby(['Province/State'])[\"inIcuCumulative\"].shift(1)\n",
    "data['onVentilatorCurrentlyIncrease'] = data['onVentilatorCurrently'] - data.groupby(['Province/State'])[\"onVentilatorCurrently\"].shift(1)\n",
    "data['onVentilatorCumulativeIncrease'] = data['onVentilatorCumulative'] - data.groupby(['Province/State'])[\"onVentilatorCumulative\"].shift(1)\n"
   ]
  },
  {
   "cell_type": "markdown",
   "metadata": {},
   "source": [
    "## Add `Last_Update_Date`"
   ]
  },
  {
   "cell_type": "code",
   "execution_count": null,
   "metadata": {},
   "outputs": [],
   "source": [
    "data[\"Last_Update_Date\"] = datetime.datetime.utcnow()\n",
    "data['Last_Reported_Flag'] = data['Date'].max() == data['Date']"
   ]
  },
  {
   "cell_type": "markdown",
   "metadata": {},
   "source": [
    "## Export to CSV\n",
    "\n",
    "The example JSON reponse is:\n",
    "\n",
    "```\n",
    "[{\"date\":20200411,\"state\":\"AK\",\"positive\":257,\"negative\":7475,\"pending\":null,\"hospitalizedCurrently\":null,\"hospitalizedCumulative\":31,\"inIcuCurrently\":null,\"inIcuCumulative\":null,\"onVentilatorCurrently\":null,\"onVentilatorCumulative\":null,\"recovered\":63,\"hash\":\"a8d36e9ce19edaeaac989881abf96fc74196efba\",\"dateChecked\":\"2020-04-11T20:00:00Z\",\"death\":8,\"hospitalized\":31,\"total\":7732,\"totalTestResults\":7732,\"posNeg\":7732,\"fips\":\"02\",\"deathIncrease\":1,\"hospitalizedIncrease\":3,\"negativeIncrease\":289,\"positiveIncrease\":11,\"totalTestResultsIncrease\":300}\n",
    "```"
   ]
  },
  {
   "cell_type": "code",
   "execution_count": null,
   "metadata": {},
   "outputs": [],
   "source": [
    "data.to_csv(output_folder + \"CT_US_COVID_TESTS.csv\", columns=['Country/Region', 'Province/State', 'Date',\n",
    "                               'positive', 'positiveIncrease',\n",
    "                               'negative', 'negativeIncrease',\n",
    "                               'pending', 'pendingIncrease',\n",
    "                               'death', 'deathIncrease',\n",
    "                               'hospitalized', 'hospitalizedIncrease',\n",
    "                               'total', 'totalTestResultsIncrease',\n",
    "                               'ISO3166-1', 'ISO3166-2', 'Last_Update_Date','Last_Reported_Flag',\n",
    "                               'hospitalizedCurrently', 'hospitalizedCurrentlyIncrease', \n",
    "                                'hospitalizedCumulative', 'hospitalizedCumulativeIncrease', \n",
    "                                'inIcuCurrently', 'inIcuCurrentlyIncrease', \n",
    "                                'inIcuCumulative', 'inIcuCumulativeIncrease',\n",
    "                                'onVentilatorCurrently','onVentilatorCurrentlyIncrease', \n",
    "                                'onVentilatorCumulative', 'onVentilatorCumulativeIncrease' ], index=False)"
   ]
  }
 ],
 "metadata": {
  "celltoolbar": "Tags",
  "kernelspec": {
   "display_name": "Python 3",
   "language": "python",
   "name": "python3"
  },
  "language_info": {
   "codemirror_mode": {
    "name": "ipython",
    "version": 3
   },
   "file_extension": ".py",
   "mimetype": "text/x-python",
   "name": "python",
   "nbconvert_exporter": "python",
   "pygments_lexer": "ipython3",
   "version": "3.7.5"
  },
  "pycharm": {
   "stem_cell": {
    "cell_type": "raw",
    "metadata": {
     "collapsed": false
    },
    "source": []
   }
  }
 },
 "nbformat": 4,
 "nbformat_minor": 2
}
