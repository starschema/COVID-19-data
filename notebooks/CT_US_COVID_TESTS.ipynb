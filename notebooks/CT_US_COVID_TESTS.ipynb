{
 "cells": [
  {
   "cell_type": "markdown",
   "metadata": {},
   "source": [
    "# Importing from the COVID Tracking Project\n",
    "\n",
    "This script pulls data from the API provided by the [COVID Tracking Project](https://covidtracking.com/). They're collecting data from 50 US states, the District of Columbia, and five U.S. territories to provide the most comprehensive testing data. They attempt to include positive and negative results, pending tests and total people tested for each state or district currently reporting that data."
   ]
  },
  {
   "cell_type": "code",
   "execution_count": null,
   "metadata": {},
   "outputs": [],
   "source": [
    "import pandas as pd\n",
    "import requests\n",
    "import json\n",
    "import datetime\n",
    "import pycountry"
   ]
  },
  {
   "cell_type": "code",
   "execution_count": null,
   "metadata": {
    "tags": [
     "parameters"
    ]
   },
   "outputs": [],
   "source": [
    "# papermill parameters\n",
    "output_folder = '../output/'"
   ]
  },
  {
   "cell_type": "code",
   "execution_count": null,
   "metadata": {},
   "outputs": [],
   "source": [
    "raw_response = requests.get(\"https://covidtracking.com/api/states/daily\").text\n",
    "raw_data = pd.DataFrame.from_dict(json.loads(raw_response))"
   ]
  },
  {
   "cell_type": "markdown",
   "metadata": {},
   "source": [
    "### Data Quality\n",
    "1. Replace empty values with zero\n",
    "2. Convert \"date\" int column to \"Date\" datetime column\n",
    "4. Rename columns in order to match with other source\n",
    "5. Drop unnecessary columns\n",
    "6. Add \"Country/Region\" column, since the source contains data from US states, it can be hardcoded"
   ]
  },
  {
   "cell_type": "code",
   "execution_count": null,
   "metadata": {},
   "outputs": [],
   "source": [
    "data = raw_data.fillna(0)\n",
    "data['Date'] = pd.to_datetime(data['date'].astype(str), format='%Y%m%d')\n",
    "data = data.rename(\n",
    "    columns={\n",
    "        \"state\": \"ISO3166-2\",\n",
    "        \"positive\": \"Positive\",\n",
    "        \"negative\": \"Negative\",\n",
    "        \"pending\": \"Pending\",\n",
    "        \"death\": \"Death\",\n",
    "        \"total\": \"Total\",\n",
    "        \"hospitalized\": \"Hospitalized\"\n",
    "    })\n",
    "data = data.drop(labels=['dateChecked', \"date\"], axis='columns')\n",
    "data['Country/Region'] = \"United States\"\n",
    "data['ISO3166-1'] = \"US\""
   ]
  },
  {
   "cell_type": "code",
   "execution_count": null,
   "metadata": {},
   "outputs": [],
   "source": [
    "states = {k.code.replace(\"US-\", \"\"): k.name for k in pycountry.subdivisions.get(country_code=\"US\")}"
   ]
  },
  {
   "cell_type": "code",
   "execution_count": null,
   "metadata": {},
   "outputs": [],
   "source": [
    "data[\"Province/State\"] = data[\"ISO3166-2\"].apply(lambda x: states[x])"
   ]
  },
  {
   "cell_type": "markdown",
   "metadata": {},
   "source": [
    "## Sorting data by Province/State before calculating the daily differences"
   ]
  },
  {
   "cell_type": "code",
   "execution_count": null,
   "metadata": {
    "scrolled": true
   },
   "outputs": [],
   "source": [
    "sorted_data = data.sort_values(by=['Province/State'] + ['Date'], ascending=True)"
   ]
  },
  {
   "cell_type": "code",
   "execution_count": null,
   "metadata": {},
   "outputs": [],
   "source": [
    "sorted_data['Positive_Since_Previous_Day'] = sorted_data['Positive'] - sorted_data.groupby(['Province/State'])[\"Positive\"].shift(1, fill_value=0)\n",
    "sorted_data['Total_Since_Previous_Day'] = sorted_data['Total'] - sorted_data.groupby(['Province/State'])[\"Total\"].shift(1, fill_value=0)\n",
    "sorted_data['Negative_Since_Previous_Day'] = sorted_data['Negative'] - sorted_data.groupby(['Province/State'])[\"Negative\"].shift(1, fill_value=0)\n",
    "sorted_data['Pending_Since_Previous_Day'] = sorted_data['Pending'] - sorted_data.groupby(['Province/State'])[\"Pending\"].shift(1, fill_value=0)\n",
    "sorted_data['Death_Since_Previous_Day'] = sorted_data['Death'] - sorted_data.groupby(['Province/State'])[\"Death\"].shift(1, fill_value=0)\n",
    "sorted_data['Hospitalized_Since_Previous_Day'] = sorted_data['Hospitalized'] - sorted_data.groupby(['Province/State'])[\"Hospitalized\"].shift(1, fill_value=0)"
   ]
  },
  {
   "cell_type": "markdown",
   "metadata": {},
   "source": [
    "## Rearrange columns"
   ]
  },
  {
   "cell_type": "code",
   "execution_count": null,
   "metadata": {},
   "outputs": [],
   "source": [
    "rearranged_data = sorted_data.filter(items=['Country/Region', 'Province/State', 'Date',\n",
    "                               'Positive', 'Positive_Since_Previous_Day',\n",
    "                               'Negative', 'Negative_Since_Previous_Day',\n",
    "                               'Pending', 'Pending_Since_Previous_Day',\n",
    "                               'Death', 'Death_Since_Previous_Day',\n",
    "                               'Hospitalized', 'Hospitalized_Since_Previous_Day',\n",
    "                               'Total', 'Total_Since_Previous_Day',\n",
    "                               'ISO3166-1', 'ISO3166-2'])"
   ]
  },
  {
   "cell_type": "markdown",
   "metadata": {},
   "source": [
    "## Add `Last_Update_Date`"
   ]
  },
  {
   "cell_type": "code",
   "execution_count": null,
   "metadata": {},
   "outputs": [],
   "source": [
    "rearranged_data.loc[:, \"Last_Update_Date\"] = datetime.datetime.utcnow()"
   ]
  },
  {
   "cell_type": "markdown",
   "metadata": {},
   "source": [
    "## Export to CSV"
   ]
  },
  {
   "cell_type": "code",
   "execution_count": null,
   "metadata": {},
   "outputs": [],
   "source": [
    "rearranged_data.to_csv(output_folder + \"CT_US_COVID_TESTS.csv\", index=False)"
   ]
  }
 ],
 "metadata": {
  "celltoolbar": "Tags",
  "kernelspec": {
   "display_name": "Python 3",
   "language": "python",
   "name": "python3"
  },
  "language_info": {
   "codemirror_mode": {
    "name": "ipython",
    "version": 3
   },
   "file_extension": ".py",
   "mimetype": "text/x-python",
   "name": "python",
   "nbconvert_exporter": "python",
   "pygments_lexer": "ipython3",
   "version": "3.7.5"
  },
  "pycharm": {
   "stem_cell": {
    "cell_type": "raw",
    "metadata": {
     "collapsed": false
    },
    "source": []
   }
  }
 },
 "nbformat": 4,
 "nbformat_minor": 2
}
