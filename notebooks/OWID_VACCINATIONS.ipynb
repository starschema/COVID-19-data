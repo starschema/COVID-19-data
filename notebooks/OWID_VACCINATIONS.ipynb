{
 "cells": [
  {
   "cell_type": "markdown",
   "metadata": {},
   "source": [
    "# World Wide Vaccination Data from Our World in Data\n",
    "\n",
    "The following script takes data from the repository of the `Data on COVID-19 (coronavirus) by Our World in Data` operated Our World in Data.  \n",
    "\n",
    "\n",
    "> Hasell, J., Mathieu, E., Beltekian, D. _et al_. A cross-country database of COVID-19 testing. _Sci Data 7_, 345 (2020). https://doi.org/10.1038/s41597-020-00688-8\n",
    "\n",
    "The data produced by third parties and made available by Our World in Data is subject to the license terms from the original third-party authors. OWD and Starschema will always indicate the original source of the data in our database, and you should always check the license of any such third-party data before use.\n",
    "\n"
   ]
  },
  {
   "cell_type": "code",
   "execution_count": null,
   "metadata": {},
   "outputs": [],
   "source": [
    "import pandas as pd\n",
    "import csv\n",
    "import datetime\n",
    "import pycountry"
   ]
  },
  {
   "cell_type": "code",
   "execution_count": null,
   "metadata": {
    "tags": [
     "parameters"
    ]
   },
   "outputs": [],
   "source": [
    "# papermill parameters\n",
    "output_folder = \"../output/\""
   ]
  },
  {
   "cell_type": "code",
   "execution_count": null,
   "metadata": {},
   "outputs": [],
   "source": [
    "df = pd.read_csv(\"https://raw.githubusercontent.com/owid/covid-19-data/master/public/data/vaccinations/vaccinations.csv\")"
   ]
  },
  {
   "cell_type": "code",
   "execution_count": null,
   "metadata": {},
   "outputs": [],
   "source": [
    "# drop States/Provinces\n",
    "df.dropna(subset=['iso_code'], inplace=True)\n",
    "# drop world wide aggregate\n",
    "df = df[~df['iso_code'].isin(['OWID_NIR','OWID_ENG','OWID_WLS','OWID_SCT','OWID_WRL','OWID_KOS'])]\n",
    "df.loc[df.iso_code == 'OWID_CYN','iso_code'] = 'CYP'"
   ]
  },
  {
   "cell_type": "markdown",
   "metadata": {},
   "source": [
    "Download and join location data with the main dataset"
   ]
  },
  {
   "cell_type": "code",
   "execution_count": null,
   "metadata": {},
   "outputs": [],
   "source": [
    "location = pd.read_csv(\"https://raw.githubusercontent.com/owid/covid-19-data/master/public/data/vaccinations/locations.csv\")\n",
    "location.dropna(subset=['iso_code'], inplace=True)\n"
   ]
  },
  {
   "cell_type": "code",
   "execution_count": null,
   "metadata": {},
   "outputs": [],
   "source": [
    "df = df.merge(location, on='iso_code', copy=False, validate='many_to_one',suffixes=['','_l'] )\n"
   ]
  },
  {
   "cell_type": "markdown",
   "metadata": {},
   "source": [
    "Convert 3 character ISO country codes to two character ones "
   ]
  },
  {
   "cell_type": "code",
   "execution_count": null,
   "metadata": {},
   "outputs": [],
   "source": [
    "df[\"iso_code\"].unique()"
   ]
  },
  {
   "cell_type": "code",
   "execution_count": null,
   "metadata": {},
   "outputs": [],
   "source": [
    "country_3c_codes = df['iso_code'].unique()\n",
    "\n",
    "replace_dict = map(lambda x: [x, pycountry.countries.get(alpha_3=x).alpha_2], country_3c_codes) \n",
    "\n",
    "\n",
    "df[\"iso_code\"].replace(dict(replace_dict), inplace=True)"
   ]
  },
  {
   "cell_type": "code",
   "execution_count": null,
   "metadata": {},
   "outputs": [],
   "source": [
    "country_3c_codes"
   ]
  },
  {
   "cell_type": "code",
   "execution_count": null,
   "metadata": {},
   "outputs": [],
   "source": [
    "df[\"Last_Update_Date\"] = datetime.datetime.utcnow()"
   ]
  },
  {
   "cell_type": "markdown",
   "metadata": {},
   "source": [
    "## Set Last_Reported_Date_Flag"
   ]
  },
  {
   "cell_type": "code",
   "execution_count": null,
   "metadata": {},
   "outputs": [],
   "source": [
    "df['Last_Reported_Flag'] = df[\"date\"].max() == df[\"date\"]"
   ]
  },
  {
   "cell_type": "markdown",
   "metadata": {},
   "source": [
    "## Output"
   ]
  },
  {
   "cell_type": "markdown",
   "metadata": {},
   "source": [
    "Finally, we store the output in the `output` folder as `OWID_VACCINATIONS.csv` as an unindexed CSV file."
   ]
  },
  {
   "cell_type": "code",
   "execution_count": null,
   "metadata": {},
   "outputs": [],
   "source": [
    "df.rename(columns={'location':'Country_Region','iso_code': 'ISO3166_1' }, inplace=True)"
   ]
  },
  {
   "cell_type": "code",
   "execution_count": null,
   "metadata": {},
   "outputs": [],
   "source": [
    "df.to_csv(output_folder + \"OWID_VACCINATIONS.csv\", index=False, quoting=csv.QUOTE_NONNUMERIC,\n", 
    "    quotechar='\"', escapechar='\\\\', doublequote=False, columns=['date',\n",
    "    'Country_Region','ISO3166_1','total_vaccinations','people_vaccinated','people_fully_vaccinated'\n",
    "    ,'daily_vaccinations_raw','daily_vaccinations','total_vaccinations_per_hundred',\n",
    "    'people_vaccinated_per_hundred','people_fully_vaccinated_per_hundred','daily_vaccinations_per_million',\n",
    "    'vaccines','last_observation_date','source_name','source_website','Last_Update_Date',\n",
    "    'Last_Reported_Flag'])"
   ]
  }
 ],
 "metadata": {
  "celltoolbar": "Tags",
  "kernelspec": {
   "display_name": "Python 3",
   "language": "python",
   "name": "python3"
  },
  "language_info": {
   "codemirror_mode": {
    "name": "ipython",
    "version": 3
   },
   "file_extension": ".py",
   "mimetype": "text/x-python",
   "name": "python",
   "nbconvert_exporter": "python",
   "pygments_lexer": "ipython3",
   "version": "3.7.9"
  }
 },
 "nbformat": 4,
 "nbformat_minor": 4
}
