{
 "cells": [
  {
   "cell_type": "markdown",
   "metadata": {},
   "source": [
    "# Healthsites.io bulk data import"
   ]
  },
  {
   "cell_type": "markdown",
   "metadata": {},
   "source": [
    "This notebook imports a bulk data export from [Healthsites.io](healthsites.io)."
   ]
  },
  {
   "cell_type": "code",
   "execution_count": null,
   "metadata": {},
   "outputs": [],
   "source": [
    "import pandas as pd\n",
    "import csv"
   ]
  },
  {
   "cell_type": "code",
   "execution_count": null,
   "metadata": {
    "tags": [
     "parameters"
    ]
   },
   "outputs": [],
   "source": [
    "# papermill parameters\n",
    "output_folder = \"../output/\""
   ]
  },
  {
   "cell_type": "code",
   "execution_count": null,
   "metadata": {},
   "outputs": [],
   "source": [
    "df = pd.read_csv(\"https://s3-us-west-1.amazonaws.com/starschema.covid/Healthsites_io_World_2020-03-19.csv\", encoding=\"ISO-8859-1\")"
   ]
  },
  {
   "cell_type": "markdown",
   "metadata": {},
   "source": [
    "## Filter to columns and rename columns\n",
    "\n",
    "We are only interested in `lat`, `long`, type (`healthcare` -> `healthcare_provider_type`), `name`, `operator`, bed count (`beds`), staffing (`staff_doct` -> `staff_medical` and `staff_nurs` -> `staff_nursing`).\n",
    "\n",
    "We are also excluding \n",
    "\n",
    "* indirect medical specialities (e.g. `diagnostics`), \n",
    "* chronic care (e.g. dialysis), \n",
    "* mental health provision incl. drug rehabilitation, \n",
    "* labour and delivery,\n",
    "* specialities that do not play a role in COVID-19 response (dentistry, optometry, physiotherapy &c.), and \n",
    "* alternative medicine and paramedicine.\n",
    "\n",
    "Finally, we map various local names and different spellings into the following categories:\n",
    "\n",
    "* `primary_care` (GPs, PCPs, paediatrics),\n",
    "* `secondary_care`,\n",
    "* `hospital`s incl. polyclinics,\n",
    "* `emergency_and_urgent_care`,\n",
    "* `health_center`s, incl. multispeciality care."
   ]
  },
  {
   "cell_type": "code",
   "execution_count": null,
   "metadata": {},
   "outputs": [],
   "source": [
    "cols_to_keep = [\"HealthX\", \"HealthY\", \"healthcare\", \"name\", \"operator\", \"beds\", \"staff_doct\", \"staff_nurs\"]\n",
    "cols_name_mapping = {\"HealthX\": \"Long\",\n",
    "                     \"HealthY\": \"Lat\",\n",
    "                     \"healthcare\": \"Healthcare_Provider_Type\",\n",
    "                     \"name\": \"Name\",\n",
    "                     \"operator\": \"Operator\",\n",
    "                     \"beds\": \"Beds\",\n",
    "                     \"staff_doct\": \"Staff_Medical\",\n",
    "                     \"staff_nurs\": \"Staff_Nursing\"}\n",
    "healthcare_provision_mapping = {\"hospital\": \"hospital\",\n",
    "                                \"pharmacy\": \"pharmacy\",\n",
    "                                \"centre\": \"health_center\",\n",
    "                                \"clinic\": \"secondary_care\",\n",
    "                                \"doctor\": \"primary_care\",\n",
    "                                \"yes\": \"primary_care\",\n",
    "                                \"general_practitioner\": \"primary_care\",\n",
    "                                \"several_doctors\": \"primary_care\",\n",
    "                                \"urgent_care\": \"emergency_and_urgent_care\",\n",
    "                                \"health_center\": \"health_center\",\n",
    "                                \"Polyclinic\": \"hospital\",\n",
    "                                \"Health Centre\": \"health_center\",\n",
    "                                \"centre_de_santé\": \"health_center\",\n",
    "                                \"general_medicine\": \"primary_care\",\n",
    "                                \"Hospital\": \"hospital\",\n",
    "                                \"group\": \"health_center\",\n",
    "                                \"doctors\": \"health_center\",\n",
    "                                \"ambulatorio\": \"health_center\",\n",
    "                                \"primary hospital\": \"hospital\",\n",
    "                                \"pediatrics\": \"primary_care\",\n",
    "                                \"general;paediatrics\": \"primary_care\",\n",
    "                                \"doctor; pharmacy\": \"primary_care\",\n",
    "                                \"polyclinic\": \"hospital\",\n",
    "                                \"heath center\": \"health_centr\",\n",
    "                                \"paramedic\": \"emergency_and_urgent_care\",\n",
    "                                \"doctor;midwife\": \"primary_care\",\n",
    "                                \"hospital;pharmacy\": \"hospital\",\n",
    "                                \"family_practice\": \"primary_care\",\n",
    "                                \"nurse\": \"primary_care\",\n",
    "                                \"neurologist\": \"secondary_care\",\n",
    "                                \"doctor;dentist;physiotherapist;psychotherapist\": \"health_center\",\n",
    "                                \"geriatric\": \"primary_care\",\n",
    "                                \"laboratory;doctor\": \"health_center\",\n",
    "                                \"surgery\": \"primary_care\",\n",
    "                                \"doctor;dentist;physiotherapist\": \"health_cente\",\n",
    "                                \"internist\": \"primary_care\",\n",
    "                                \"physician_assistant\": \"emergency_and_urgent_care\",\n",
    "                                \"general\": \"primary_care\",\n",
    "                                \"doctor;nurse\": \"primary_care\",\n",
    "                                \"generalist\": \"primary_caree\",\n",
    "                                \"clinik\": \"hospital\",\n",
    "                                \"clinic;dentist;doctor;pharmacy\": \"health_center\",\n",
    "                                \"pharmacy;laboratory;doctor\": \"health_center\",\n",
    "                                \"nursing\": \"primary_care\",\n",
    "                                \"pediatrician\": \"primary_care\",\n",
    "                                \"General Physician\": \"primary_care\",\n",
    "                                \"centre;doctor\": \"health_center\",\n",
    "                                \"polyambulatory\": \"health_center\",\n",
    "                                \"paediatrics\": \"primary_care\",\n",
    "                                \"clinic;doctors;dialysis\": \"health_center\",\n",
    "                                \"dispensary\": \"pharmacy\",\n",
    "                                \"doctor;hospital\": \"hospital\",\n",
    "                                \"center\": \"health_center\",\n",
    "                                \"otolaryngologist\": \"secondary_care\",\n",
    "                                \"first_aid\": \"emergency_and_urgent_care\",\n",
    "                                \"clinic;laboratory;physiotherapist;occupational_therapist\": \"health_center\",\n",
    "                                \"doctor;pharmacy\": \"primary_care\",\n",
    "                                \"pharmacy;doctor\": \"primary_care\",\n",
    "                                \"doctor;pharmacy;hospital;dentist;laboratory;birthing_center\": \"health_center\",\n",
    "                                \"doctor;pharmacy;dentist;laboratory\": \"health_center\",\n",
    "                                \"doctor;pharmacy;hospital;dentist;physiotherapist;alternative;laboratory;optometrist;birthing_center\": \"health_center\",\n",
    "                                \"clinic;doctor\": \"health_center\",\n",
    "                                \"Calindagan Health Center\": \"health_center\",\n",
    "                                \"doctor+pharmacy\": \"health_center\",\n",
    "                                \"health_post\": \"primary_care\",\n",
    "                                \"emergency_ward\": \"emergency_and_urgent_care\",\n",
    "                                \"laboratory, pharmacy, clinic\": \"health_center\",\n",
    "                                \"dentist;doctors\": \"health_center\",\n",
    "                                \"nephrology\": \"secondary_care\"}"
   ]
  },
  {
   "cell_type": "code",
   "execution_count": null,
   "metadata": {},
   "outputs": [],
   "source": [
    "df = df.filter(cols_to_keep, axis=\"columns\")\n",
    "df.rename(columns=cols_name_mapping, inplace=True)"
   ]
  },
  {
   "cell_type": "code",
   "execution_count": null,
   "metadata": {},
   "outputs": [],
   "source": [
    "df[\"Healthcare_Provider_Type\"] = df[\"Healthcare_Provider_Type\"].replace(healthcare_provision_mapping)"
   ]
  },
  {
   "cell_type": "code",
   "execution_count": null,
   "metadata": {},
   "outputs": [],
   "source": [
    "df.to_csv(output_folder + \"HS_BULK_DATA.csv\", index=False, quoting=csv.QUOTE_NONNUMERIC)"
   ]
  }
 ],
 "metadata": {
  "kernelspec": {
   "display_name": "Python 3",
   "language": "python",
   "name": "python3"
  },
  "language_info": {
   "codemirror_mode": {
    "name": "ipython",
    "version": 3
   },
   "file_extension": ".py",
   "mimetype": "text/x-python",
   "name": "python",
   "nbconvert_exporter": "python",
   "pygments_lexer": "ipython3",
   "version": "3.7.5"
  }
 },
 "nbformat": 4,
 "nbformat_minor": 4
}
