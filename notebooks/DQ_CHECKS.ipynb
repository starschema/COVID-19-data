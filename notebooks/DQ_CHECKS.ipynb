{
 "cells": [
  {
   "cell_type": "markdown",
   "metadata": {},
   "source": [
    "# Data quality checks"
   ]
  },
  {
   "cell_type": "code",
   "execution_count": null,
   "metadata": {},
   "outputs": [],
   "source": [
    "import numpy as np\n",
    "import pandas as pd\n",
    "import datetime\n",
    "import matplotlib.pyplot as plt\n",
    "import seaborn as sns\n",
    "sns.set(style=\"darkgrid\")"
   ]
  },
  {
   "cell_type": "code",
   "execution_count": null,
   "metadata": {},
   "outputs": [],
   "source": [
    "jhu_data = pd.read_csv(\"https://s3-us-west-1.amazonaws.com/starschema.covid/JHU_COVID-19.csv\")\n",
    "who_data = pd.read_csv(\"https://s3-us-west-1.amazonaws.com/starschema.covid/WHO_SITUATION_REPORTS.csv\")"
   ]
  },
  {
   "cell_type": "code",
   "execution_count": null,
   "metadata": {
    "tags": [
     "parameters"
    ]
   },
   "outputs": [],
   "source": [
    "# papermill parameters\n",
    "output_folder = '../docs/'"
   ]
  },
  {
   "cell_type": "markdown",
   "metadata": {},
   "source": [
    "## WHO vs JHU country level data reconciliation"
   ]
  },
  {
   "cell_type": "code",
   "execution_count": null,
   "metadata": {},
   "outputs": [],
   "source": [
    "who_by_country_and_date = who_data.groupby([\"ISO3166-1\", \"Date\"]).aggregate({\"Total_Cases\": \"sum\",\n",
    "                                                                             \"Deaths\": \"sum\"}).reset_index()\n",
    "who_by_country_and_date[\"Date\"] = pd.to_datetime(who_by_country_and_date[\"Date\"])"
   ]
  },
  {
   "cell_type": "code",
   "execution_count": null,
   "metadata": {},
   "outputs": [],
   "source": [
    "jhu_deaths = jhu_data.loc[jhu_data[\"Case_Type\"] == \"Deaths\"].groupby([\"ISO3166-1\", \"Date\"]).aggregate({\"Cases\": \"sum\"}).rename(columns={\"Cases\": \"Deaths\"})\n",
    "jhu_cases = jhu_data.loc[jhu_data[\"Case_Type\"] == \"Confirmed\"].groupby([\"ISO3166-1\", \"Date\"]).aggregate({\"Cases\": \"sum\"}).rename(columns={\"Cases\": \"Total_Cases\"})"
   ]
  },
  {
   "cell_type": "code",
   "execution_count": null,
   "metadata": {},
   "outputs": [],
   "source": [
    "jhu_pivoted = jhu_cases.join(jhu_deaths).reset_index()\n",
    "jhu_pivoted[\"Date\"] = pd.to_datetime(jhu_pivoted[\"Date\"])"
   ]
  },
  {
   "cell_type": "code",
   "execution_count": null,
   "metadata": {},
   "outputs": [],
   "source": [
    "jhu_who_delta = who_by_country_and_date.merge(jhu_pivoted, on=[\"ISO3166-1\", \"Date\"], suffixes=(\"_WHO\", \"_JHU\"), how=\"outer\")"
   ]
  },
  {
   "cell_type": "code",
   "execution_count": null,
   "metadata": {},
   "outputs": [],
   "source": [
    "jhu_who_delta[\"Delta_Total_Cases\"] = abs(jhu_who_delta[\"Total_Cases_WHO\"] - jhu_who_delta[\"Total_Cases_JHU\"])\n",
    "jhu_who_delta[\"Delta_Deaths\"] = abs(jhu_who_delta[\"Total_Cases_WHO\"] - jhu_who_delta[\"Total_Cases_JHU\"])"
   ]
  },
  {
   "cell_type": "code",
   "execution_count": null,
   "metadata": {},
   "outputs": [],
   "source": [
    "jhu_who_delta = jhu_who_delta.merge(\n",
    "    jhu_who_delta.groupby([\"ISO3166-1\", \"Date\"]).aggregate({\n",
    "        \"Delta_Total_Cases\":\n",
    "        \"sum\",\n",
    "        \"Delta_Deaths\":\n",
    "        \"sum\"\n",
    "    }).rename(\n",
    "        columns={\n",
    "            \"Delta_Total_Cases\": \"Total_Country_Delta_Cases\",\n",
    "            \"Delta_Deaths\": \"Total_Country_Delta_Deaths\"\n",
    "        }).reset_index())"
   ]
  },
  {
   "cell_type": "markdown",
   "metadata": {},
   "source": [
    "Since there are no comparator WHO reports pre-20MAR2020, prior values are filtered and discarded."
   ]
  },
  {
   "cell_type": "code",
   "execution_count": null,
   "metadata": {},
   "outputs": [],
   "source": [
    "jhu_who_delta = jhu_who_delta.loc[jhu_who_delta[\"Date\"] >= datetime.date(year=2020, month=3, day=20)]"
   ]
  },
  {
   "cell_type": "code",
   "execution_count": null,
   "metadata": {},
   "outputs": [],
   "source": [
    "jhu_who_delta_cases = jhu_who_delta.sort_values([\"Total_Country_Delta_Cases\", \"ISO3166-1\", \"Date\"], ascending=False)\n",
    "jhu_who_delta_cases = jhu_who_delta_cases[jhu_who_delta_cases[\"ISO3166-1\"].isin(jhu_who_delta_cases[\"ISO3166-1\"].unique()[0:16])]\n",
    "jhu_who_delta_cases = jhu_who_delta_cases.pivot(index=\"ISO3166-1\", columns=\"Date\", values=\"Delta_Total_Cases\")\n",
    "jhu_who_delta_cases = jhu_who_delta_cases.sort_values(jhu_who_delta_cases.columns.max(), ascending=False)"
   ]
  },
  {
   "cell_type": "code",
   "execution_count": null,
   "metadata": {
    "scrolled": true
   },
   "outputs": [],
   "source": [
    "fig, ax = plt.subplots(figsize=(21, 29.7))\n",
    "plt.title(\"Spot plot, WHO vs JHU case count\")\n",
    "sns.set()\n",
    "ax = sns.heatmap(jhu_who_delta_cases, annot=True, fmt=\".0f\", cmap=\"YlGnBu\")\n",
    "ax.set_xticklabels(jhu_who_delta.loc[jhu_who_delta[\"Date\"] >= datetime.date(year=2020, month=3, day=20)][\"Date\"].dt.strftime('%d-%m-%Y'))\n",
    "plt.xticks(rotation=90)\n",
    "plt.savefig(output_folder + \"dx_who_vs_jhu_case_count.png\")"
   ]
  },
  {
   "cell_type": "code",
   "execution_count": null,
   "metadata": {},
   "outputs": [],
   "source": [
    "jhu_who_delta_deaths = jhu_who_delta.sort_values([\"Total_Country_Delta_Cases\", \"ISO3166-1\", \"Date\"], ascending=False)\n",
    "jhu_who_delta_deaths = jhu_who_delta_deaths[jhu_who_delta_deaths[\"ISO3166-1\"].isin(jhu_who_delta_deaths[\"ISO3166-1\"].unique()[0:16])]\n",
    "jhu_who_delta_deaths = jhu_who_delta_deaths.pivot(index=\"ISO3166-1\", columns=\"Date\", values=\"Delta_Total_Cases\")\n",
    "jhu_who_delta_deaths = jhu_who_delta_deaths.sort_values(jhu_who_delta_deaths.columns.max(), ascending=False)"
   ]
  },
  {
   "cell_type": "code",
   "execution_count": null,
   "metadata": {},
   "outputs": [],
   "source": [
    "fig, ax = plt.subplots(figsize=(21, 29.7))\n",
    "plt.title(\"Spot plot, WHO vs JHU deaths\")\n",
    "sns.set()\n",
    "ax = sns.heatmap(jhu_who_delta_cases, annot=True, fmt=\".0f\", cmap=\"YlGnBu\")\n",
    "ax.set_xticklabels(jhu_who_delta.loc[jhu_who_delta[\"Date\"] >= datetime.date(year=2020, month=3, day=20)][\"Date\"].dt.strftime('%d-%m-%Y'))\n",
    "plt.xticks(rotation=90)\n",
    "plt.savefig(output_folder + \"DQ_CHECKS_who_vs_jhu_deaths.png\")"
   ]
  }
 ],
 "metadata": {
  "celltoolbar": "Tags",
  "kernelspec": {
   "display_name": "Python 3",
   "language": "python",
   "name": "python3"
  },
  "language_info": {
   "codemirror_mode": {
    "name": "ipython",
    "version": 3
   },
   "file_extension": ".py",
   "mimetype": "text/x-python",
   "name": "python",
   "nbconvert_exporter": "python",
   "pygments_lexer": "ipython3",
   "version": "3.7.5"
  }
 },
 "nbformat": 4,
 "nbformat_minor": 4
}
