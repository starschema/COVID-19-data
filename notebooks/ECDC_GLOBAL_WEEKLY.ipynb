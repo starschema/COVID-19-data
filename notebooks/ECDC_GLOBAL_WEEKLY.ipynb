{
 "cells": [
  {
   "cell_type": "markdown",
   "metadata": {},
   "source": [
    "# European Centre for Disease Prevention and Control Dataset"
   ]
  },
  {
   "cell_type": "code",
   "execution_count": 1,
   "metadata": {},
   "outputs": [],
   "source": [
    "import pandas as pd\n",
    "import datetime\n",
    "import pycountry\n",
    "import re\n",
    "import os\n",
    "import numpy as np"
   ]
  },
  {
   "cell_type": "code",
   "execution_count": 2,
   "metadata": {
    "tags": [
     "parameters"
    ]
   },
   "outputs": [],
   "source": [
    "# papermill parameters\n",
    "output_folder = \"../output/\""
   ]
  },
  {
   "cell_type": "markdown",
   "metadata": {},
   "source": [
    "### Fetch data"
   ]
  },
  {
   "cell_type": "code",
   "execution_count": 3,
   "metadata": {},
   "outputs": [],
   "source": [
    "df = pd.read_csv(\"https://opendata.ecdc.europa.eu/covid19/casedistribution/csv\")"
   ]
  },
  {
   "cell_type": "code",
   "execution_count": 13,
   "metadata": {},
   "outputs": [
    {
     "data": {
      "text/html": [
       "<div>\n",
       "<style scoped>\n",
       "    .dataframe tbody tr th:only-of-type {\n",
       "        vertical-align: middle;\n",
       "    }\n",
       "\n",
       "    .dataframe tbody tr th {\n",
       "        vertical-align: top;\n",
       "    }\n",
       "\n",
       "    .dataframe thead th {\n",
       "        text-align: right;\n",
       "    }\n",
       "</style>\n",
       "<table border=\"1\" class=\"dataframe\">\n",
       "  <thead>\n",
       "    <tr style=\"text-align: right;\">\n",
       "      <th></th>\n",
       "      <th>DATE</th>\n",
       "      <th>cases_weekly</th>\n",
       "      <th>deaths_weekly</th>\n",
       "      <th>COUNTRY_REGION</th>\n",
       "      <th>ISO3166_1</th>\n",
       "      <th>popData2019</th>\n",
       "      <th>continentExp</th>\n",
       "      <th>notification_rate_per_100000_population_14-days</th>\n",
       "      <th>CASES_SINCE_PREV_WEEK</th>\n",
       "      <th>DEATHS_SINCE_PREV_WEEK</th>\n",
       "      <th>LAST_UPDATE_DATE</th>\n",
       "      <th>LAST_REPORTED_FLAG</th>\n",
       "    </tr>\n",
       "  </thead>\n",
       "  <tbody>\n",
       "    <tr>\n",
       "      <th>0</th>\n",
       "      <td>2020-12-21</td>\n",
       "      <td>740</td>\n",
       "      <td>111</td>\n",
       "      <td>Afghanistan</td>\n",
       "      <td>AF</td>\n",
       "      <td>38041757.0</td>\n",
       "      <td>Asia</td>\n",
       "      <td>6.56</td>\n",
       "      <td>0</td>\n",
       "      <td>0</td>\n",
       "      <td>2020-12-29 12:43:38.524091</td>\n",
       "      <td>True</td>\n",
       "    </tr>\n",
       "    <tr>\n",
       "      <th>1</th>\n",
       "      <td>2020-12-14</td>\n",
       "      <td>1757</td>\n",
       "      <td>71</td>\n",
       "      <td>Afghanistan</td>\n",
       "      <td>AF</td>\n",
       "      <td>38041757.0</td>\n",
       "      <td>Asia</td>\n",
       "      <td>9.01</td>\n",
       "      <td>1017</td>\n",
       "      <td>-40</td>\n",
       "      <td>2020-12-29 12:43:38.524091</td>\n",
       "      <td>False</td>\n",
       "    </tr>\n",
       "    <tr>\n",
       "      <th>2</th>\n",
       "      <td>2020-12-07</td>\n",
       "      <td>1672</td>\n",
       "      <td>137</td>\n",
       "      <td>Afghanistan</td>\n",
       "      <td>AF</td>\n",
       "      <td>38041757.0</td>\n",
       "      <td>Asia</td>\n",
       "      <td>7.22</td>\n",
       "      <td>-85</td>\n",
       "      <td>66</td>\n",
       "      <td>2020-12-29 12:43:38.524091</td>\n",
       "      <td>False</td>\n",
       "    </tr>\n",
       "    <tr>\n",
       "      <th>3</th>\n",
       "      <td>2020-11-30</td>\n",
       "      <td>1073</td>\n",
       "      <td>68</td>\n",
       "      <td>Afghanistan</td>\n",
       "      <td>AF</td>\n",
       "      <td>38041757.0</td>\n",
       "      <td>Asia</td>\n",
       "      <td>6.42</td>\n",
       "      <td>-599</td>\n",
       "      <td>-69</td>\n",
       "      <td>2020-12-29 12:43:38.524091</td>\n",
       "      <td>False</td>\n",
       "    </tr>\n",
       "    <tr>\n",
       "      <th>4</th>\n",
       "      <td>2020-11-23</td>\n",
       "      <td>1368</td>\n",
       "      <td>69</td>\n",
       "      <td>Afghanistan</td>\n",
       "      <td>AF</td>\n",
       "      <td>38041757.0</td>\n",
       "      <td>Asia</td>\n",
       "      <td>6.66</td>\n",
       "      <td>295</td>\n",
       "      <td>1</td>\n",
       "      <td>2020-12-29 12:43:38.524091</td>\n",
       "      <td>False</td>\n",
       "    </tr>\n",
       "    <tr>\n",
       "      <th>...</th>\n",
       "      <td>...</td>\n",
       "      <td>...</td>\n",
       "      <td>...</td>\n",
       "      <td>...</td>\n",
       "      <td>...</td>\n",
       "      <td>...</td>\n",
       "      <td>...</td>\n",
       "      <td>...</td>\n",
       "      <td>...</td>\n",
       "      <td>...</td>\n",
       "      <td>...</td>\n",
       "      <td>...</td>\n",
       "    </tr>\n",
       "    <tr>\n",
       "      <th>9146</th>\n",
       "      <td>2020-04-20</td>\n",
       "      <td>11</td>\n",
       "      <td>0</td>\n",
       "      <td>Zimbabwe</td>\n",
       "      <td>ZW</td>\n",
       "      <td>14645473.0</td>\n",
       "      <td>Africa</td>\n",
       "      <td>0.11</td>\n",
       "      <td>5</td>\n",
       "      <td>-1</td>\n",
       "      <td>2020-12-29 12:43:38.524091</td>\n",
       "      <td>False</td>\n",
       "    </tr>\n",
       "    <tr>\n",
       "      <th>9147</th>\n",
       "      <td>2020-04-13</td>\n",
       "      <td>5</td>\n",
       "      <td>2</td>\n",
       "      <td>Zimbabwe</td>\n",
       "      <td>ZW</td>\n",
       "      <td>14645473.0</td>\n",
       "      <td>Africa</td>\n",
       "      <td>0.05</td>\n",
       "      <td>-6</td>\n",
       "      <td>2</td>\n",
       "      <td>2020-12-29 12:43:38.524091</td>\n",
       "      <td>False</td>\n",
       "    </tr>\n",
       "    <tr>\n",
       "      <th>9148</th>\n",
       "      <td>2020-04-06</td>\n",
       "      <td>2</td>\n",
       "      <td>0</td>\n",
       "      <td>Zimbabwe</td>\n",
       "      <td>ZW</td>\n",
       "      <td>14645473.0</td>\n",
       "      <td>Africa</td>\n",
       "      <td>0.05</td>\n",
       "      <td>-3</td>\n",
       "      <td>-2</td>\n",
       "      <td>2020-12-29 12:43:38.524091</td>\n",
       "      <td>False</td>\n",
       "    </tr>\n",
       "    <tr>\n",
       "      <th>9149</th>\n",
       "      <td>2020-03-30</td>\n",
       "      <td>5</td>\n",
       "      <td>1</td>\n",
       "      <td>Zimbabwe</td>\n",
       "      <td>ZW</td>\n",
       "      <td>14645473.0</td>\n",
       "      <td>Africa</td>\n",
       "      <td>0.05</td>\n",
       "      <td>3</td>\n",
       "      <td>1</td>\n",
       "      <td>2020-12-29 12:43:38.524091</td>\n",
       "      <td>False</td>\n",
       "    </tr>\n",
       "    <tr>\n",
       "      <th>9150</th>\n",
       "      <td>2020-03-23</td>\n",
       "      <td>2</td>\n",
       "      <td>0</td>\n",
       "      <td>Zimbabwe</td>\n",
       "      <td>ZW</td>\n",
       "      <td>14645473.0</td>\n",
       "      <td>Africa</td>\n",
       "      <td>NaN</td>\n",
       "      <td>-3</td>\n",
       "      <td>-1</td>\n",
       "      <td>2020-12-29 12:43:38.524091</td>\n",
       "      <td>False</td>\n",
       "    </tr>\n",
       "  </tbody>\n",
       "</table>\n",
       "<p>9151 rows × 12 columns</p>\n",
       "</div>"
      ],
      "text/plain": [
       "           DATE  cases_weekly  deaths_weekly COUNTRY_REGION ISO3166_1  \\\n",
       "0    2020-12-21           740            111    Afghanistan        AF   \n",
       "1    2020-12-14          1757             71    Afghanistan        AF   \n",
       "2    2020-12-07          1672            137    Afghanistan        AF   \n",
       "3    2020-11-30          1073             68    Afghanistan        AF   \n",
       "4    2020-11-23          1368             69    Afghanistan        AF   \n",
       "...         ...           ...            ...            ...       ...   \n",
       "9146 2020-04-20            11              0       Zimbabwe        ZW   \n",
       "9147 2020-04-13             5              2       Zimbabwe        ZW   \n",
       "9148 2020-04-06             2              0       Zimbabwe        ZW   \n",
       "9149 2020-03-30             5              1       Zimbabwe        ZW   \n",
       "9150 2020-03-23             2              0       Zimbabwe        ZW   \n",
       "\n",
       "      popData2019 continentExp  \\\n",
       "0      38041757.0         Asia   \n",
       "1      38041757.0         Asia   \n",
       "2      38041757.0         Asia   \n",
       "3      38041757.0         Asia   \n",
       "4      38041757.0         Asia   \n",
       "...           ...          ...   \n",
       "9146   14645473.0       Africa   \n",
       "9147   14645473.0       Africa   \n",
       "9148   14645473.0       Africa   \n",
       "9149   14645473.0       Africa   \n",
       "9150   14645473.0       Africa   \n",
       "\n",
       "      notification_rate_per_100000_population_14-days  CASES_SINCE_PREV_WEEK  \\\n",
       "0                                                6.56                      0   \n",
       "1                                                9.01                   1017   \n",
       "2                                                7.22                    -85   \n",
       "3                                                6.42                   -599   \n",
       "4                                                6.66                    295   \n",
       "...                                               ...                    ...   \n",
       "9146                                             0.11                      5   \n",
       "9147                                             0.05                     -6   \n",
       "9148                                             0.05                     -3   \n",
       "9149                                             0.05                      3   \n",
       "9150                                              NaN                     -3   \n",
       "\n",
       "      DEATHS_SINCE_PREV_WEEK           LAST_UPDATE_DATE  LAST_REPORTED_FLAG  \n",
       "0                          0 2020-12-29 12:43:38.524091                True  \n",
       "1                        -40 2020-12-29 12:43:38.524091               False  \n",
       "2                         66 2020-12-29 12:43:38.524091               False  \n",
       "3                        -69 2020-12-29 12:43:38.524091               False  \n",
       "4                          1 2020-12-29 12:43:38.524091               False  \n",
       "...                      ...                        ...                 ...  \n",
       "9146                      -1 2020-12-29 12:43:38.524091               False  \n",
       "9147                       2 2020-12-29 12:43:38.524091               False  \n",
       "9148                      -2 2020-12-29 12:43:38.524091               False  \n",
       "9149                       1 2020-12-29 12:43:38.524091               False  \n",
       "9150                      -1 2020-12-29 12:43:38.524091               False  \n",
       "\n",
       "[9151 rows x 12 columns]"
      ]
     },
     "execution_count": 13,
     "metadata": {},
     "output_type": "execute_result"
    }
   ],
   "source": [
    "df"
   ]
  },
  {
   "cell_type": "markdown",
   "metadata": {},
   "source": [
    "### Parse date"
   ]
  },
  {
   "cell_type": "code",
   "execution_count": 4,
   "metadata": {},
   "outputs": [],
   "source": [
    "df[\"dateRep\"] = pd.to_datetime(df[\"dateRep\"], format=\"%d/%m/%Y\")"
   ]
  },
  {
   "cell_type": "markdown",
   "metadata": {},
   "source": [
    "### Add difference"
   ]
  },
  {
   "cell_type": "code",
   "execution_count": 7,
   "metadata": {},
   "outputs": [],
   "source": [
    "df['CASES_SINCE_PREV_WEEK'] = df.groupby(['countriesAndTerritories','continentExp'])['cases_weekly'].diff().fillna(0).astype(int)\n",
    "df['DEATHS_SINCE_PREV_WEEK'] = df.groupby(['countriesAndTerritories','continentExp'])['deaths_weekly'].diff().fillna(0).astype(int)"
   ]
  },
  {
   "cell_type": "markdown",
   "metadata": {},
   "source": [
    "### Drop cols"
   ]
  },
  {
   "cell_type": "code",
   "execution_count": 8,
   "metadata": {},
   "outputs": [],
   "source": [
    "df = df.drop(columns=[\"year_week\", \"countryterritoryCode\"])"
   ]
  },
  {
   "cell_type": "code",
   "execution_count": 9,
   "metadata": {
    "scrolled": true
   },
   "outputs": [
    {
     "name": "stderr",
     "output_type": "stream",
     "text": [
      "/Users/tfoldi/Developer/covid19-data/p39/lib/python3.9/site-packages/pandas/core/indexing.py:670: SettingWithCopyWarning: \n",
      "A value is trying to be set on a copy of a slice from a DataFrame\n",
      "\n",
      "See the caveats in the documentation: https://pandas.pydata.org/pandas-docs/stable/user_guide/indexing.html#returning-a-view-versus-a-copy\n",
      "  iloc._setitem_with_indexer(indexer, value)\n"
     ]
    }
   ],
   "source": [
    "int_conveyance = df[\"geoId\"].loc[\"JPG11668\" == df[\"geoId\"]].index\n",
    "df[\"geoId\"].iloc[int_conveyance] = np.nan\n",
    "df[\"popData2019\"].iloc[int_conveyance] = np.nan\n",
    "df[\"continentExp\"].iloc[int_conveyance] = np.nan\n",
    "df[\"countriesAndTerritories\"].iloc[int_conveyance] = \"Cases on an international conveyance Japan\""
   ]
  },
  {
   "cell_type": "markdown",
   "metadata": {},
   "source": [
    "### Resolve Country/Region name"
   ]
  },
  {
   "cell_type": "code",
   "execution_count": 10,
   "metadata": {},
   "outputs": [],
   "source": [
    "country_codes = df[\"geoId\"].unique()\n",
    "for code in country_codes:\n",
    "    try:\n",
    "        pyc = pycountry.countries.get(alpha_2=code)\n",
    "        if pyc:\n",
    "            df[\"countriesAndTerritories\"].loc[code == df[\"geoId\"]] = pyc.name\n",
    "    except LookupError:\n",
    "        df[\"countriesAndTerritories\"].loc[code == df[\"geoId\"]] = None"
   ]
  },
  {
   "cell_type": "markdown",
   "metadata": {},
   "source": [
    "### Set Last Update Date and Last Reported Flag"
   ]
  },
  {
   "cell_type": "code",
   "execution_count": 11,
   "metadata": {},
   "outputs": [],
   "source": [
    "df[\"LAST_UPDATE_DATE\"] = datetime.datetime.utcnow()\n",
    "df[\"LAST_REPORTED_FLAG\"] = df[\"dateRep\"].max() == df[\"dateRep\"]"
   ]
  },
  {
   "cell_type": "markdown",
   "metadata": {},
   "source": [
    "### Rename Cols"
   ]
  },
  {
   "cell_type": "code",
   "execution_count": 12,
   "metadata": {},
   "outputs": [],
   "source": [
    "df = df.rename(columns={\n",
    "    \"dateRep\": \"DATE\", \n",
    "    \"countriesAndTerritories\": \"COUNTRY_REGION\", \n",
    "    \"geoId\": \"ISO3166_1\", \n",
    "    \"popData2018\": \"POPULATION\",\n",
    "})"
   ]
  },
  {
   "cell_type": "markdown",
   "metadata": {},
   "source": [
    "### Save dataframe"
   ]
  },
  {
   "cell_type": "code",
   "execution_count": 15,
   "metadata": {},
   "outputs": [],
   "source": [
    "df.to_csv(output_folder + \"ECDC_GLOBAL_WEEKLY.csv\", index=False, columns=[\n",
    "    \"COUNTRY_REGION\",\n",
    "    \"continentExp\",\n",
    "    \"ISO3166_1\",\n",
    "    \"cases_weekly\",\n",
    "    \"deaths_weekly\",\n",
    "    \"CASES_SINCE_PREV_WEEK\",\n",
    "    \"DEATHS_SINCE_PREV_WEEK\",\n",
    "    \"popData2019\",\n",
    "    \"DATE\",\n",
    "    \"LAST_UPDATE_DATE\",\n",
    "    \"LAST_REPORTED_FLAG\"\n",
    "])"
   ]
  }
 ],
 "metadata": {
  "celltoolbar": "Tags",
  "kernelspec": {
   "display_name": "Python 3",
   "language": "python",
   "name": "python3"
  },
  "language_info": {
   "codemirror_mode": {
    "name": "ipython",
    "version": 3
   },
   "file_extension": ".py",
   "mimetype": "text/x-python",
   "name": "python",
   "nbconvert_exporter": "python",
   "pygments_lexer": "ipython3",
   "version": "3.9.1"
  }
 },
 "nbformat": 4,
 "nbformat_minor": 4
}
