{
 "cells": [
  {
   "cell_type": "markdown",
   "metadata": {},
   "source": [
    "# Importing from Humanitarian Data Exchange (HUM) \n",
    "\n",
    "This scripts is pulling data from arcgis API, where data is stored behind this dashboard: https://data.humdata.org/dataset/covid-19-global-travel-restrictions-and-airline-information\n",
    "\n",
    "The data is divided in two datasets: - COVID-19 restrictions by country: This dataset shows current travel restrictions. Information is collected from various sources: IATA, media, national sources, WFP internal or any other. - COVID-19 airline restrictions information: This dataset shows restrictions taken by individual airlines or country. Information is collected again from various sources including WFP internal and public sources."
   ]
  },
  {
   "cell_type": "code",
   "execution_count": null,
   "metadata": {
    "ExecuteTime": {
     "end_time": "2022-05-24T07:01:46.136664Z",
     "start_time": "2022-05-24T07:01:45.624632Z"
    }
   },
   "outputs": [],
   "source": [
    "import requests\n",
    "import json\n",
    "import pandas as pd\n",
    "import datetime\n",
    "import pycountry"
   ]
  },
  {
   "cell_type": "code",
   "execution_count": null,
   "metadata": {
    "ExecuteTime": {
     "end_time": "2022-05-24T07:01:46.140480Z",
     "start_time": "2022-05-24T07:01:46.138243Z"
    },
    "tags": [
     "parameters"
    ]
   },
   "outputs": [],
   "source": [
    "# papermill parameters\n",
    "output_folder = '../output/'"
   ]
  },
  {
   "cell_type": "code",
   "execution_count": null,
   "metadata": {
    "ExecuteTime": {
     "end_time": "2022-05-24T07:01:46.145130Z",
     "start_time": "2022-05-24T07:01:46.142532Z"
    }
   },
   "outputs": [],
   "source": [
    "def get_df_from_arcgis_api(url):\n",
    "    res = requests.get(url)\n",
    "    json_response = json.loads(res.text.encode('utf-8'))\n",
    "    data = [feature[\"attributes\"] for feature in json_response[\"features\"]]\n",
    "    return pd.DataFrame(data)\n",
    "    "
   ]
  },
  {
   "cell_type": "markdown",
   "metadata": {},
   "source": [
    " ### COUNTRY RESTRICTIONS"
   ]
  },
  {
   "cell_type": "code",
   "execution_count": null,
   "metadata": {
    "ExecuteTime": {
     "end_time": "2022-05-24T07:01:46.637077Z",
     "start_time": "2022-05-24T07:01:46.147074Z"
    }
   },
   "outputs": [],
   "source": [
    "url = \"https://services3.arcgis.com/t6lYS2Pmd8iVx1fy/ArcGIS/rest/services/COVID_Travel_Restrictions_V2/FeatureServer/0/query?where=1%3D1&outFields=*&f=pjson\"\n",
    "countryDf = get_df_from_arcgis_api(url)"
   ]
  },
  {
   "cell_type": "markdown",
   "metadata": {},
   "source": [
    "### Data Quality\n",
    "1. rename columns\n",
    "2. filtering data based on \"Sources\" and \"Info Data\" data, because the dataset has a lot of empty country data\n",
    "3. drop unnecessary columns\n",
    "4. converting date string to datetime format\n",
    "5. adding Last Update Date column"
   ]
  },
  {
   "cell_type": "code",
   "execution_count": null,
   "metadata": {
    "ExecuteTime": {
     "end_time": "2022-05-24T07:01:46.649909Z",
     "start_time": "2022-05-24T07:01:46.638500Z"
    }
   },
   "outputs": [],
   "source": [
    "reNamedCountryDf = countryDf.rename(\n",
    "    columns={\n",
    "        'adm0_name': 'COUNTRY',\n",
    "        'iso3': 'ISO3_COUNTRY_CODE',\n",
    "        'X': 'LONG',\n",
    "        'Y': 'LAT',\n",
    "        'published': 'PUBLISHED',\n",
    "        'sources': 'SOURCES',\n",
    "        'info': 'RESTRICTION_TEXT',\n",
    "        'optional1': 'INFO_DATE',\n",
    "        'optional2': 'QUARANTINE_TEXT'\n",
    "    })\n",
    "\n",
    "cleanCountryDf = reNamedCountryDf[reNamedCountryDf['SOURCES'].notnull()\n",
    "                                  & reNamedCountryDf['INFO_DATE'].notnull()]\n",
    "cleanCountryDf = cleanCountryDf.drop(['optional3', 'ObjectId'], axis=1)\n",
    "cleanCountryDf['PUBLISHED'] = pd.to_datetime(\n",
    "    cleanCountryDf['PUBLISHED'].astype(str),\n",
    "    format='%d.%m.%Y',\n",
    "    errors=\"coerce\")\n",
    "cleanCountryDf['INFO_DATE'] = pd.to_datetime(\n",
    "    cleanCountryDf['INFO_DATE'].astype(str), format='%Y%m%d', errors=\"coerce\")\n",
    "cleanCountryDf['LAST_UPDATE_DATE'] = datetime.datetime.utcnow()"
   ]
  },
  {
   "cell_type": "markdown",
   "metadata": {},
   "source": [
    "## Recode ISO-3 codes to ISO 3166-1 digrams"
   ]
  },
  {
   "cell_type": "code",
   "execution_count": null,
   "metadata": {
    "ExecuteTime": {
     "end_time": "2022-05-24T07:01:46.654600Z",
     "start_time": "2022-05-24T07:01:46.651427Z"
    }
   },
   "outputs": [],
   "source": [
    "def get_country(row):\n",
    "    if row.ISO3_COUNTRY_CODE is None:\n",
    "        return \"\"    \n",
    "    elif \",\" in row.ISO3_COUNTRY_CODE:\n",
    "        country_trigram = row.ISO3_COUNTRY_CODE.split(\", \")[0]\n",
    "    elif row.ISO3_COUNTRY_CODE == \"\":\n",
    "        return \"\"\n",
    "    else:\n",
    "        country_trigram = row.ISO3_COUNTRY_CODE\n",
    "    \n",
    "    country = pycountry.countries.get(alpha_3=country_trigram)\n",
    "    \n",
    "    if country:\n",
    "        return country.alpha_2\n",
    "    else:\n",
    "        return \"\""
   ]
  },
  {
   "cell_type": "code",
   "execution_count": null,
   "metadata": {
    "ExecuteTime": {
     "end_time": "2022-05-24T07:01:46.673284Z",
     "start_time": "2022-05-24T07:01:46.656246Z"
    }
   },
   "outputs": [],
   "source": [
    "cleanCountryDf[\"ISO3_COUNTRY_CODE\"] = cleanCountryDf.apply(get_country, axis=1)\n",
    "cleanCountryDf = cleanCountryDf.rename(columns={\"ISO3_COUNTRY_CODE\": \"ISO3166_1\"})"
   ]
  },
  {
   "cell_type": "markdown",
   "metadata": {},
   "source": [
    "## Export country restrictions"
   ]
  },
  {
   "cell_type": "code",
   "execution_count": null,
   "metadata": {
    "ExecuteTime": {
     "end_time": "2022-05-24T07:01:46.711305Z",
     "start_time": "2022-05-24T07:01:46.676106Z"
    }
   },
   "outputs": [],
   "source": [
    "cleanCountryDf.to_csv(output_folder + \"HUM_RESTRICTIONS_COUNTRY.csv\", index=False)"
   ]
  },
  {
   "cell_type": "code",
   "execution_count": null,
   "metadata": {
    "ExecuteTime": {
     "end_time": "2022-05-24T07:01:46.739322Z",
     "start_time": "2022-05-24T07:01:46.713190Z"
    }
   },
   "outputs": [],
   "source": [
    "cleanCountryDf"
   ]
  },
  {
   "cell_type": "markdown",
   "metadata": {},
   "source": [
    "# AIRLINE RESTRICTIONS"
   ]
  },
  {
   "cell_type": "code",
   "execution_count": null,
   "metadata": {
    "ExecuteTime": {
     "end_time": "2022-05-24T07:01:47.017246Z",
     "start_time": "2022-05-24T07:01:46.740827Z"
    }
   },
   "outputs": [],
   "source": [
    "url = \"https://services3.arcgis.com/t6lYS2Pmd8iVx1fy/ArcGIS/rest/services/COVID_Airline_Information_V2/FeatureServer/0/query?where=1%3D1&outFields=*&f=pjson\"\n",
    "airlineDf = get_df_from_arcgis_api(url)"
   ]
  },
  {
   "cell_type": "markdown",
   "metadata": {},
   "source": [
    "### Data Quality\n",
    "1. rename columns\n",
    "2. filtering data based on \"Sources\" and \"Info Data\" data, because the dataset has a lot of empty country data\n",
    "3. drop unnecessary columns\n",
    "4. converting date string to datetime format\n",
    "5. adding Last Update Date column"
   ]
  },
  {
   "cell_type": "code",
   "execution_count": null,
   "metadata": {
    "ExecuteTime": {
     "end_time": "2022-05-24T07:01:47.027022Z",
     "start_time": "2022-05-24T07:01:47.018568Z"
    }
   },
   "outputs": [],
   "source": [
    "reNamedAirlineDf = airlineDf.rename(columns = {\n",
    "                            'adm0_name': 'COUNTRY',\n",
    "                            'iso3':'ISO3_COUNTRY_CODE',\n",
    "                            'X': 'LONG',\n",
    "                            'Y': 'LAT',\n",
    "                            'published':'PUBLISHED',\n",
    "                            'source': 'SOURCES',\n",
    "                            'airline': 'AIRLINE',\n",
    "                            'info': 'RESTRICTION_TEXT'})\n",
    "\n",
    "cleanAirlineDf = reNamedAirlineDf[reNamedAirlineDf['RESTRICTION_TEXT'].notnull()]\n",
    "cleanAirlineDf = cleanAirlineDf.drop(['optional1', 'optional2', 'optional3', 'ObjectId'], axis=1)\n",
    "cleanAirlineDf['PUBLISHED'] = pd.to_datetime(cleanAirlineDf['PUBLISHED'].astype(str),format='%d.%m.%Y', errors='coerce')\n",
    "cleanAirlineDf['LAST_UPDATE_DATE'] = datetime.datetime.utcnow()"
   ]
  },
  {
   "cell_type": "markdown",
   "metadata": {},
   "source": [
    "### Airline Lookup\n",
    "\n",
    "Use IATA codes to lookup/dedup/explode Airlines codes - one airline per line."
   ]
  },
  {
   "cell_type": "code",
   "execution_count": null,
   "metadata": {
    "ExecuteTime": {
     "end_time": "2022-05-24T07:01:47.337860Z",
     "start_time": "2022-05-24T07:01:47.028261Z"
    }
   },
   "outputs": [],
   "source": [
    "airlines = pd.read_csv(\"https://raw.githubusercontent.com/jpatokal/openflights/master/data/airlines.dat\",\n",
    "                       header=None, index_col=\"IATA\",\n",
    "                      names=[\"ID\", \"Name\", \"Alias\",\"IATA\",\"ICAO\",\"Callsign\",\"Country\",\"Active\"], na_values='\\\\N')"
   ]
  },
  {
   "cell_type": "code",
   "execution_count": null,
   "metadata": {
    "ExecuteTime": {
     "end_time": "2022-05-24T07:01:47.350270Z",
     "start_time": "2022-05-24T07:01:47.339209Z"
    }
   },
   "outputs": [],
   "source": [
    "cleanAirlineDf['AIRLINE'] = cleanAirlineDf['AIRLINE'].str.replace('.','')\n",
    "cleanAirlineDf['AIRLINE'] = cleanAirlineDf['AIRLINE'].str.replace('zAirlines .Airline Code..','')\n",
    "\n",
    "cleanAirlineDf['AIRLINE'] = cleanAirlineDf['AIRLINE'].str.split(',')\n",
    "cleanAirlineDf = cleanAirlineDf.explode('AIRLINE')\n",
    "cleanAirlineDf['AIRLINE'] = cleanAirlineDf['AIRLINE'].str.strip()\n"
   ]
  },
  {
   "cell_type": "code",
   "execution_count": null,
   "metadata": {
    "ExecuteTime": {
     "end_time": "2022-05-24T07:01:47.390001Z",
     "start_time": "2022-05-24T07:01:47.351720Z"
    }
   },
   "outputs": [],
   "source": [
    "def lookup_iata_codes(row):\n",
    "    if row[\"AIRLINE\"] and len(row[\"AIRLINE\"]) == 2:\n",
    "        airline = airlines.loc[ row[\"AIRLINE\"] ]\n",
    "        if type(airline) == pd.core.series.Series:\n",
    "            row[\"AIRLINE\"] = airline[\"Name\"]\n",
    "        else:\n",
    "            row[\"AIRLINE\"] = airline.iloc[0][\"Name\"]\n",
    "    return row\n",
    "\n",
    "cleanAirlineDf = cleanAirlineDf.apply(lookup_iata_codes, axis=1)"
   ]
  },
  {
   "cell_type": "code",
   "execution_count": null,
   "metadata": {
    "ExecuteTime": {
     "end_time": "2022-05-24T07:01:47.400841Z",
     "start_time": "2022-05-24T07:01:47.391421Z"
    }
   },
   "outputs": [],
   "source": [
    "cleanAirlineDf[cleanAirlineDf.ISO3_COUNTRY_CODE.isnull()]"
   ]
  },
  {
   "cell_type": "markdown",
   "metadata": {},
   "source": [
    "## Write to output CSV"
   ]
  },
  {
   "cell_type": "code",
   "execution_count": null,
   "metadata": {
    "ExecuteTime": {
     "end_time": "2022-05-24T07:01:47.425487Z",
     "start_time": "2022-05-24T07:01:47.402270Z"
    }
   },
   "outputs": [],
   "source": [
    "cleanAirlineDf[\"ISO3_COUNTRY_CODE\"] = cleanAirlineDf.apply(get_country, axis=1)\n",
    "cleanAirlineDf = cleanAirlineDf.rename(columns={\"ISO3_COUNTRY_CODE\": \"ISO3166_1\"})"
   ]
  },
  {
   "cell_type": "code",
   "execution_count": null,
   "metadata": {
    "ExecuteTime": {
     "end_time": "2022-05-24T07:01:47.435904Z",
     "start_time": "2022-05-24T07:01:47.427022Z"
    }
   },
   "outputs": [],
   "source": [
    "cleanAirlineDf.to_csv(output_folder + \"HUM_RESTRICTIONS_AIRLINE.csv\", index=False)"
   ]
  }
 ],
 "metadata": {
  "kernelspec": {
   "display_name": "Python 3",
   "language": "python",
   "name": "python3"
  },
  "language_info": {
   "codemirror_mode": {
    "name": "ipython",
    "version": 3
   },
   "file_extension": ".py",
   "mimetype": "text/x-python",
   "name": "python",
   "nbconvert_exporter": "python",
   "pygments_lexer": "ipython3",
   "version": "3.7.11"
  }
 },
 "nbformat": 4,
 "nbformat_minor": 2
}
